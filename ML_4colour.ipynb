{
  "nbformat": 4,
  "nbformat_minor": 0,
  "metadata": {
    "colab": {
      "name": "ML_4colour.ipynb",
      "provenance": [],
      "collapsed_sections": [],
      "authorship_tag": "ABX9TyPxcdKI1K7LONk/C97wQRi6",
      "include_colab_link": true
    },
    "kernelspec": {
      "name": "python3",
      "display_name": "Python 3"
    }
  },
  "cells": [
    {
      "cell_type": "markdown",
      "metadata": {
        "id": "view-in-github",
        "colab_type": "text"
      },
      "source": [
        "<a href=\"https://colab.research.google.com/github/MahlaMirali/MachineLearning_Lentil_Seed_Coat_Colour_and_Phenolics/blob/master/ML_4colour.ipynb\" target=\"_parent\"><img src=\"https://colab.research.google.com/assets/colab-badge.svg\" alt=\"Open In Colab\"/></a>"
      ]
    },
    {
      "cell_type": "markdown",
      "metadata": {
        "id": "7vJ7WYLbTrKo",
        "colab_type": "text"
      },
      "source": [
        "# Import libraries/ file "
      ]
    },
    {
      "cell_type": "code",
      "metadata": {
        "id": "UKUXSGo-9_Dg",
        "colab_type": "code",
        "colab": {
          "base_uri": "https://localhost:8080/",
          "height": 110
        },
        "outputId": "bd64d0c5-1c31-4ea5-8585-2fc4aa33af29"
      },
      "source": [
        "from google.colab import files\n",
        "import io\n",
        "import pandas as pd\n",
        "import numpy as np\n",
        "from sklearn.preprocessing import PowerTransformer\n",
        "from sklearn.model_selection import train_test_split, KFold, cross_val_score, GridSearchCV\n",
        "from sklearn.neighbors import KNeighborsClassifier\n",
        "from sklearn.ensemble import RandomForestClassifier\n",
        "from sklearn.svm import SVC\n",
        "from sklearn import metrics\n",
        "from pprint import pprint\n",
        "import seaborn as sns\n",
        "from sklearn.metrics import confusion_matrix, classification_report\n",
        "import matplotlib.pyplot as plt\n",
        "%matplotlib inline\n",
        "from matplotlib import pyplot\n",
        "from mpl_toolkits import mplot3d\n",
        "%tensorflow_version 1.x\n",
        "import tensorflow\n",
        "import keras\n",
        "from keras.models import Sequential \n",
        "from keras.layers import Dense,Activation,Dropout \n",
        "from keras.utils import np_utils\n",
        "from keras.optimizers import Adam"
      ],
      "execution_count": 1,
      "outputs": [
        {
          "output_type": "stream",
          "text": [
            "/usr/local/lib/python3.6/dist-packages/statsmodels/tools/_testing.py:19: FutureWarning: pandas.util.testing is deprecated. Use the functions in the public API at pandas.testing instead.\n",
            "  import pandas.util.testing as tm\n"
          ],
          "name": "stderr"
        },
        {
          "output_type": "stream",
          "text": [
            "TensorFlow 1.x selected.\n"
          ],
          "name": "stdout"
        },
        {
          "output_type": "stream",
          "text": [
            "Using TensorFlow backend.\n"
          ],
          "name": "stderr"
        }
      ]
    },
    {
      "cell_type": "markdown",
      "metadata": {
        "id": "ZTQdaILWTzfB",
        "colab_type": "text"
      },
      "source": [
        "**Upload/import the file**\n"
      ]
    },
    {
      "cell_type": "code",
      "metadata": {
        "id": "8AC942Tt-Wdf",
        "colab_type": "code",
        "outputId": "42c22156-82bf-4171-b4d1-0385a2cbfe57",
        "colab": {
          "resources": {
            "http://localhost:8080/nbextensions/google.colab/files.js": {
              "data": "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",
              "ok": true,
              "headers": [
                [
                  "content-type",
                  "application/javascript"
                ]
              ],
              "status": 200,
              "status_text": "OK"
            }
          },
          "base_uri": "https://localhost:8080/",
          "height": 75
        }
      },
      "source": [
        "# upload the file into google colab\n",
        "uploaded = files.upload()"
      ],
      "execution_count": 5,
      "outputs": [
        {
          "output_type": "display_data",
          "data": {
            "text/html": [
              "\n",
              "     <input type=\"file\" id=\"files-7f0026f6-9aee-405d-80d2-748534dad3bd\" name=\"files[]\" multiple disabled />\n",
              "     <output id=\"result-7f0026f6-9aee-405d-80d2-748534dad3bd\">\n",
              "      Upload widget is only available when the cell has been executed in the\n",
              "      current browser session. Please rerun this cell to enable.\n",
              "      </output>\n",
              "      <script src=\"/nbextensions/google.colab/files.js\"></script> "
            ],
            "text/plain": [
              "<IPython.core.display.HTML object>"
            ]
          },
          "metadata": {
            "tags": []
          }
        },
        {
          "output_type": "stream",
          "text": [
            "Saving ML_4colour.csv to ML_4colour.csv\n"
          ],
          "name": "stdout"
        }
      ]
    },
    {
      "cell_type": "code",
      "metadata": {
        "id": "aQnaiDbt-4ai",
        "colab_type": "code",
        "outputId": "c8767077-dddf-40cd-bf00-be039d5096dd",
        "colab": {
          "base_uri": "https://localhost:8080/",
          "height": 965
        }
      },
      "source": [
        "# import the file into a dataframe\n",
        "df = pd.read_csv(io.BytesIO(uploaded['ML_4colour.csv']))\n",
        "df"
      ],
      "execution_count": 6,
      "outputs": [
        {
          "output_type": "execute_result",
          "data": {
            "text/html": [
              "<div>\n",
              "<style scoped>\n",
              "    .dataframe tbody tr th:only-of-type {\n",
              "        vertical-align: middle;\n",
              "    }\n",
              "\n",
              "    .dataframe tbody tr th {\n",
              "        vertical-align: top;\n",
              "    }\n",
              "\n",
              "    .dataframe thead th {\n",
              "        text-align: right;\n",
              "    }\n",
              "</style>\n",
              "<table border=\"1\" class=\"dataframe\">\n",
              "  <thead>\n",
              "    <tr style=\"text-align: right;\">\n",
              "      <th></th>\n",
              "      <th>Folder</th>\n",
              "      <th>genotypes</th>\n",
              "      <th>location</th>\n",
              "      <th>hull</th>\n",
              "      <th>cotyledon</th>\n",
              "      <th>rep</th>\n",
              "      <th>4_sal</th>\n",
              "      <th>vanil_4gluc</th>\n",
              "      <th>querc_glucI</th>\n",
              "      <th>cat_13C</th>\n",
              "      <th>cat</th>\n",
              "      <th>epi_cat</th>\n",
              "      <th>cat_gluc</th>\n",
              "      <th>gallo</th>\n",
              "      <th>epi_gallo</th>\n",
              "      <th>epi_cat_gall</th>\n",
              "      <th>epi_gallo_gall</th>\n",
              "      <th>A2</th>\n",
              "      <th>B1</th>\n",
              "      <th>CC_I</th>\n",
              "      <th>CC_II</th>\n",
              "      <th>B2</th>\n",
              "      <th>CCC_I</th>\n",
              "      <th>CCC_II</th>\n",
              "      <th>C1</th>\n",
              "      <th>CCC_III</th>\n",
              "      <th>3_cinn</th>\n",
              "      <th>kaempf_rhamn</th>\n",
              "      <th>querc_di_glucI</th>\n",
              "      <th>kaemp_di_rut</th>\n",
              "      <th>malv_3galact</th>\n",
              "      <th>querc_3_4di_gluc</th>\n",
              "      <th>kaemp_3robin_7rhamn</th>\n",
              "      <th>lut_3_7di_gluc</th>\n",
              "      <th>lut_di_gluc</th>\n",
              "      <th>kaemp_rhamn_gluc_I</th>\n",
              "      <th>kaemp_rhamn_gluc_II</th>\n",
              "      <th>resv_3gluc</th>\n",
              "      <th>querc_3galact</th>\n",
              "      <th>querc_3rutin</th>\n",
              "      <th>...</th>\n",
              "      <th>kaemp</th>\n",
              "      <th>querc_glucIII</th>\n",
              "      <th>731.7</th>\n",
              "      <th>1155.9I</th>\n",
              "      <th>1155.9II</th>\n",
              "      <th>1444.1I</th>\n",
              "      <th>1444.1II</th>\n",
              "      <th>595.6I</th>\n",
              "      <th>595.6II</th>\n",
              "      <th>595.6IV</th>\n",
              "      <th>609.6</th>\n",
              "      <th>883.7I</th>\n",
              "      <th>883.7II</th>\n",
              "      <th>883.7IV</th>\n",
              "      <th>899.7I</th>\n",
              "      <th>899.7II</th>\n",
              "      <th>899.7III</th>\n",
              "      <th>915.6II</th>\n",
              "      <th>915.6III</th>\n",
              "      <th>915.6IV</th>\n",
              "      <th>1171.8I</th>\n",
              "      <th>1171.8II</th>\n",
              "      <th>1171.8III</th>\n",
              "      <th>1187.8I</th>\n",
              "      <th>1187.8II</th>\n",
              "      <th>1187.8III</th>\n",
              "      <th>1460.1I</th>\n",
              "      <th>1460.1II</th>\n",
              "      <th>1475.8I</th>\n",
              "      <th>1475.8II</th>\n",
              "      <th>1492.2I</th>\n",
              "      <th>1492.2II</th>\n",
              "      <th>1748.2</th>\n",
              "      <th>1764.4</th>\n",
              "      <th>1204.8I</th>\n",
              "      <th>1204.8II</th>\n",
              "      <th>1204.8III</th>\n",
              "      <th>1509.2I</th>\n",
              "      <th>1509.2II</th>\n",
              "      <th>1525.1</th>\n",
              "    </tr>\n",
              "  </thead>\n",
              "  <tbody>\n",
              "    <tr>\n",
              "      <th>0</th>\n",
              "      <td>D:\\newly added\\Others.190713\\Academic\\PhD\\data...</td>\n",
              "      <td>LR18_STH_2013_B_R_146</td>\n",
              "      <td>STH</td>\n",
              "      <td>brown</td>\n",
              "      <td>red</td>\n",
              "      <td>3</td>\n",
              "      <td>1</td>\n",
              "      <td>0.246700</td>\n",
              "      <td>0.100459</td>\n",
              "      <td>1</td>\n",
              "      <td>0.616302</td>\n",
              "      <td>0.019288</td>\n",
              "      <td>7.913565</td>\n",
              "      <td>0.252229</td>\n",
              "      <td>0.004858</td>\n",
              "      <td>0.002159</td>\n",
              "      <td>0.000437</td>\n",
              "      <td>0.004524</td>\n",
              "      <td>0.229530</td>\n",
              "      <td>0.938848</td>\n",
              "      <td>0.121226</td>\n",
              "      <td>0.016215</td>\n",
              "      <td>1.839570</td>\n",
              "      <td>0.261486</td>\n",
              "      <td>0.001049</td>\n",
              "      <td>0.328785</td>\n",
              "      <td>1</td>\n",
              "      <td>56.274995</td>\n",
              "      <td>0.327864</td>\n",
              "      <td>546.792155</td>\n",
              "      <td>0.000000</td>\n",
              "      <td>0.001176</td>\n",
              "      <td>19.574256</td>\n",
              "      <td>0.001615</td>\n",
              "      <td>1.433044</td>\n",
              "      <td>0.349899</td>\n",
              "      <td>0.110363</td>\n",
              "      <td>0.331385</td>\n",
              "      <td>0.004651</td>\n",
              "      <td>0.093082</td>\n",
              "      <td>...</td>\n",
              "      <td>0.000515</td>\n",
              "      <td>0.018667</td>\n",
              "      <td>0.632827</td>\n",
              "      <td>3.911181</td>\n",
              "      <td>3.791208</td>\n",
              "      <td>0.976440</td>\n",
              "      <td>1.047954</td>\n",
              "      <td>2.824455</td>\n",
              "      <td>1.565748</td>\n",
              "      <td>12.060314</td>\n",
              "      <td>0.891967</td>\n",
              "      <td>25.610989</td>\n",
              "      <td>6.543969</td>\n",
              "      <td>1.032335</td>\n",
              "      <td>5.019163</td>\n",
              "      <td>2.874199</td>\n",
              "      <td>20.554053</td>\n",
              "      <td>0.927460</td>\n",
              "      <td>1.477010</td>\n",
              "      <td>1.487925</td>\n",
              "      <td>8.197364</td>\n",
              "      <td>4.288911</td>\n",
              "      <td>3.212514</td>\n",
              "      <td>13.444427</td>\n",
              "      <td>3.935404</td>\n",
              "      <td>1.641315</td>\n",
              "      <td>1.701887</td>\n",
              "      <td>1.452669</td>\n",
              "      <td>3.827175</td>\n",
              "      <td>1.955030</td>\n",
              "      <td>2.118405</td>\n",
              "      <td>0.644259</td>\n",
              "      <td>0.470997</td>\n",
              "      <td>0.617799</td>\n",
              "      <td>2.634657</td>\n",
              "      <td>2.219223</td>\n",
              "      <td>4.911929</td>\n",
              "      <td>1.209678</td>\n",
              "      <td>0.451232</td>\n",
              "      <td>0.716158</td>\n",
              "    </tr>\n",
              "    <tr>\n",
              "      <th>1</th>\n",
              "      <td>D:\\newly added\\Others.190713\\Academic\\PhD\\data...</td>\n",
              "      <td>LR18_STH_2013_B_R_146</td>\n",
              "      <td>STH</td>\n",
              "      <td>brown</td>\n",
              "      <td>red</td>\n",
              "      <td>2</td>\n",
              "      <td>1</td>\n",
              "      <td>0.231851</td>\n",
              "      <td>0.003523</td>\n",
              "      <td>1</td>\n",
              "      <td>0.534112</td>\n",
              "      <td>0.013891</td>\n",
              "      <td>5.073656</td>\n",
              "      <td>0.163886</td>\n",
              "      <td>0.003182</td>\n",
              "      <td>0.001467</td>\n",
              "      <td>0.001648</td>\n",
              "      <td>0.000338</td>\n",
              "      <td>0.068490</td>\n",
              "      <td>1.100709</td>\n",
              "      <td>0.111999</td>\n",
              "      <td>0.002321</td>\n",
              "      <td>2.253496</td>\n",
              "      <td>0.332985</td>\n",
              "      <td>0.009718</td>\n",
              "      <td>0.320314</td>\n",
              "      <td>1</td>\n",
              "      <td>41.119613</td>\n",
              "      <td>0.239750</td>\n",
              "      <td>526.555742</td>\n",
              "      <td>0.011915</td>\n",
              "      <td>0.005505</td>\n",
              "      <td>26.310975</td>\n",
              "      <td>0.000000</td>\n",
              "      <td>1.187291</td>\n",
              "      <td>0.122794</td>\n",
              "      <td>0.112578</td>\n",
              "      <td>0.115372</td>\n",
              "      <td>0.057127</td>\n",
              "      <td>0.046429</td>\n",
              "      <td>...</td>\n",
              "      <td>0.000298</td>\n",
              "      <td>0.013331</td>\n",
              "      <td>1.007761</td>\n",
              "      <td>5.613122</td>\n",
              "      <td>5.570499</td>\n",
              "      <td>1.666238</td>\n",
              "      <td>1.238228</td>\n",
              "      <td>2.972165</td>\n",
              "      <td>1.854194</td>\n",
              "      <td>15.233341</td>\n",
              "      <td>1.453689</td>\n",
              "      <td>31.884405</td>\n",
              "      <td>7.932159</td>\n",
              "      <td>1.395980</td>\n",
              "      <td>5.480379</td>\n",
              "      <td>3.161816</td>\n",
              "      <td>25.383679</td>\n",
              "      <td>1.245898</td>\n",
              "      <td>1.459773</td>\n",
              "      <td>1.496844</td>\n",
              "      <td>11.229373</td>\n",
              "      <td>5.705806</td>\n",
              "      <td>3.368358</td>\n",
              "      <td>15.338365</td>\n",
              "      <td>4.774166</td>\n",
              "      <td>2.427708</td>\n",
              "      <td>2.332104</td>\n",
              "      <td>2.378096</td>\n",
              "      <td>4.873891</td>\n",
              "      <td>2.598429</td>\n",
              "      <td>2.942538</td>\n",
              "      <td>1.657148</td>\n",
              "      <td>1.076616</td>\n",
              "      <td>0.982399</td>\n",
              "      <td>2.851396</td>\n",
              "      <td>2.424833</td>\n",
              "      <td>5.947192</td>\n",
              "      <td>1.461536</td>\n",
              "      <td>0.538614</td>\n",
              "      <td>0.848644</td>\n",
              "    </tr>\n",
              "    <tr>\n",
              "      <th>2</th>\n",
              "      <td>D:\\newly added\\Others.190713\\Academic\\PhD\\data...</td>\n",
              "      <td>LR18_STH_2013_B_R_146</td>\n",
              "      <td>STH</td>\n",
              "      <td>brown</td>\n",
              "      <td>red</td>\n",
              "      <td>1</td>\n",
              "      <td>1</td>\n",
              "      <td>0.293519</td>\n",
              "      <td>0.022234</td>\n",
              "      <td>1</td>\n",
              "      <td>0.554934</td>\n",
              "      <td>0.010508</td>\n",
              "      <td>7.236139</td>\n",
              "      <td>0.165417</td>\n",
              "      <td>0.009034</td>\n",
              "      <td>0.003367</td>\n",
              "      <td>0.001843</td>\n",
              "      <td>0.000645</td>\n",
              "      <td>0.106614</td>\n",
              "      <td>1.090055</td>\n",
              "      <td>0.111414</td>\n",
              "      <td>0.023931</td>\n",
              "      <td>2.409083</td>\n",
              "      <td>0.342449</td>\n",
              "      <td>0.001752</td>\n",
              "      <td>0.333963</td>\n",
              "      <td>1</td>\n",
              "      <td>46.994924</td>\n",
              "      <td>0.283587</td>\n",
              "      <td>587.920812</td>\n",
              "      <td>0.008323</td>\n",
              "      <td>0.005237</td>\n",
              "      <td>22.003658</td>\n",
              "      <td>0.000000</td>\n",
              "      <td>1.917233</td>\n",
              "      <td>0.321953</td>\n",
              "      <td>0.130780</td>\n",
              "      <td>0.119102</td>\n",
              "      <td>0.025879</td>\n",
              "      <td>0.067531</td>\n",
              "      <td>...</td>\n",
              "      <td>0.001017</td>\n",
              "      <td>0.020689</td>\n",
              "      <td>0.915102</td>\n",
              "      <td>5.553133</td>\n",
              "      <td>5.826573</td>\n",
              "      <td>1.634035</td>\n",
              "      <td>1.501034</td>\n",
              "      <td>2.870011</td>\n",
              "      <td>2.142014</td>\n",
              "      <td>14.073058</td>\n",
              "      <td>1.138523</td>\n",
              "      <td>28.601737</td>\n",
              "      <td>7.174368</td>\n",
              "      <td>1.473918</td>\n",
              "      <td>5.433332</td>\n",
              "      <td>2.834135</td>\n",
              "      <td>22.868758</td>\n",
              "      <td>1.176297</td>\n",
              "      <td>1.333733</td>\n",
              "      <td>1.650850</td>\n",
              "      <td>10.820565</td>\n",
              "      <td>5.454465</td>\n",
              "      <td>3.148843</td>\n",
              "      <td>15.020106</td>\n",
              "      <td>4.452039</td>\n",
              "      <td>2.055955</td>\n",
              "      <td>2.267682</td>\n",
              "      <td>2.024611</td>\n",
              "      <td>5.040313</td>\n",
              "      <td>2.555792</td>\n",
              "      <td>2.527744</td>\n",
              "      <td>1.327607</td>\n",
              "      <td>0.973109</td>\n",
              "      <td>1.048616</td>\n",
              "      <td>2.865235</td>\n",
              "      <td>2.450090</td>\n",
              "      <td>5.477947</td>\n",
              "      <td>1.152952</td>\n",
              "      <td>0.539029</td>\n",
              "      <td>0.919429</td>\n",
              "    </tr>\n",
              "    <tr>\n",
              "      <th>3</th>\n",
              "      <td>D:\\newly added\\Others.190713\\Academic\\PhD\\data...</td>\n",
              "      <td>LR18_STH_2013_B_R_179</td>\n",
              "      <td>STH</td>\n",
              "      <td>brown</td>\n",
              "      <td>red</td>\n",
              "      <td>3</td>\n",
              "      <td>1</td>\n",
              "      <td>0.199562</td>\n",
              "      <td>0.009656</td>\n",
              "      <td>1</td>\n",
              "      <td>0.545602</td>\n",
              "      <td>0.026535</td>\n",
              "      <td>5.070921</td>\n",
              "      <td>0.337442</td>\n",
              "      <td>0.003163</td>\n",
              "      <td>0.001629</td>\n",
              "      <td>0.001101</td>\n",
              "      <td>0.002388</td>\n",
              "      <td>0.179501</td>\n",
              "      <td>1.096979</td>\n",
              "      <td>0.107714</td>\n",
              "      <td>0.001999</td>\n",
              "      <td>2.087049</td>\n",
              "      <td>0.308467</td>\n",
              "      <td>0.002226</td>\n",
              "      <td>0.295169</td>\n",
              "      <td>1</td>\n",
              "      <td>28.067824</td>\n",
              "      <td>0.215700</td>\n",
              "      <td>318.692192</td>\n",
              "      <td>0.000000</td>\n",
              "      <td>0.004090</td>\n",
              "      <td>6.003904</td>\n",
              "      <td>0.008286</td>\n",
              "      <td>1.873154</td>\n",
              "      <td>0.346680</td>\n",
              "      <td>0.134026</td>\n",
              "      <td>0.054531</td>\n",
              "      <td>0.021433</td>\n",
              "      <td>0.068642</td>\n",
              "      <td>...</td>\n",
              "      <td>0.000612</td>\n",
              "      <td>0.033512</td>\n",
              "      <td>0.000000</td>\n",
              "      <td>0.000000</td>\n",
              "      <td>0.000000</td>\n",
              "      <td>0.000000</td>\n",
              "      <td>0.000000</td>\n",
              "      <td>0.000000</td>\n",
              "      <td>0.000000</td>\n",
              "      <td>0.000000</td>\n",
              "      <td>0.000000</td>\n",
              "      <td>0.000000</td>\n",
              "      <td>0.000000</td>\n",
              "      <td>0.000000</td>\n",
              "      <td>0.000000</td>\n",
              "      <td>0.000000</td>\n",
              "      <td>0.000000</td>\n",
              "      <td>0.000000</td>\n",
              "      <td>0.000000</td>\n",
              "      <td>0.000000</td>\n",
              "      <td>0.000000</td>\n",
              "      <td>0.000000</td>\n",
              "      <td>0.000000</td>\n",
              "      <td>0.000000</td>\n",
              "      <td>0.000000</td>\n",
              "      <td>0.000000</td>\n",
              "      <td>0.000000</td>\n",
              "      <td>0.000000</td>\n",
              "      <td>0.000000</td>\n",
              "      <td>0.000000</td>\n",
              "      <td>0.000000</td>\n",
              "      <td>0.000000</td>\n",
              "      <td>0.000000</td>\n",
              "      <td>0.000000</td>\n",
              "      <td>0.000000</td>\n",
              "      <td>0.000000</td>\n",
              "      <td>0.000000</td>\n",
              "      <td>0.000000</td>\n",
              "      <td>0.000000</td>\n",
              "      <td>0.000000</td>\n",
              "    </tr>\n",
              "    <tr>\n",
              "      <th>4</th>\n",
              "      <td>D:\\newly added\\Others.190713\\Academic\\PhD\\data...</td>\n",
              "      <td>LR18_STH_2013_B_R_179</td>\n",
              "      <td>STH</td>\n",
              "      <td>brown</td>\n",
              "      <td>red</td>\n",
              "      <td>2</td>\n",
              "      <td>1</td>\n",
              "      <td>0.164049</td>\n",
              "      <td>0.008264</td>\n",
              "      <td>1</td>\n",
              "      <td>0.546260</td>\n",
              "      <td>0.013790</td>\n",
              "      <td>4.507365</td>\n",
              "      <td>0.326875</td>\n",
              "      <td>0.007677</td>\n",
              "      <td>0.002191</td>\n",
              "      <td>0.000465</td>\n",
              "      <td>0.002349</td>\n",
              "      <td>0.112033</td>\n",
              "      <td>1.075938</td>\n",
              "      <td>0.111379</td>\n",
              "      <td>0.026866</td>\n",
              "      <td>2.159462</td>\n",
              "      <td>0.313426</td>\n",
              "      <td>0.011843</td>\n",
              "      <td>0.300020</td>\n",
              "      <td>1</td>\n",
              "      <td>29.398927</td>\n",
              "      <td>0.326712</td>\n",
              "      <td>402.576543</td>\n",
              "      <td>0.000000</td>\n",
              "      <td>0.014118</td>\n",
              "      <td>7.283286</td>\n",
              "      <td>0.000000</td>\n",
              "      <td>5.071638</td>\n",
              "      <td>0.349026</td>\n",
              "      <td>0.298464</td>\n",
              "      <td>0.158136</td>\n",
              "      <td>0.011790</td>\n",
              "      <td>0.079409</td>\n",
              "      <td>...</td>\n",
              "      <td>0.000492</td>\n",
              "      <td>0.022106</td>\n",
              "      <td>0.906026</td>\n",
              "      <td>4.861069</td>\n",
              "      <td>4.665754</td>\n",
              "      <td>1.524314</td>\n",
              "      <td>1.275415</td>\n",
              "      <td>2.875160</td>\n",
              "      <td>1.972336</td>\n",
              "      <td>16.590731</td>\n",
              "      <td>1.167477</td>\n",
              "      <td>28.232835</td>\n",
              "      <td>7.161347</td>\n",
              "      <td>1.319783</td>\n",
              "      <td>5.433534</td>\n",
              "      <td>3.196387</td>\n",
              "      <td>26.838961</td>\n",
              "      <td>1.687852</td>\n",
              "      <td>1.485443</td>\n",
              "      <td>1.651618</td>\n",
              "      <td>10.730623</td>\n",
              "      <td>5.214431</td>\n",
              "      <td>3.657919</td>\n",
              "      <td>15.555395</td>\n",
              "      <td>4.441494</td>\n",
              "      <td>2.145562</td>\n",
              "      <td>2.156483</td>\n",
              "      <td>2.276261</td>\n",
              "      <td>4.936294</td>\n",
              "      <td>2.474294</td>\n",
              "      <td>3.070695</td>\n",
              "      <td>1.307651</td>\n",
              "      <td>0.924205</td>\n",
              "      <td>1.045242</td>\n",
              "      <td>2.761720</td>\n",
              "      <td>2.804932</td>\n",
              "      <td>6.066806</td>\n",
              "      <td>1.620385</td>\n",
              "      <td>0.953261</td>\n",
              "      <td>1.043973</td>\n",
              "    </tr>\n",
              "    <tr>\n",
              "      <th>...</th>\n",
              "      <td>...</td>\n",
              "      <td>...</td>\n",
              "      <td>...</td>\n",
              "      <td>...</td>\n",
              "      <td>...</td>\n",
              "      <td>...</td>\n",
              "      <td>...</td>\n",
              "      <td>...</td>\n",
              "      <td>...</td>\n",
              "      <td>...</td>\n",
              "      <td>...</td>\n",
              "      <td>...</td>\n",
              "      <td>...</td>\n",
              "      <td>...</td>\n",
              "      <td>...</td>\n",
              "      <td>...</td>\n",
              "      <td>...</td>\n",
              "      <td>...</td>\n",
              "      <td>...</td>\n",
              "      <td>...</td>\n",
              "      <td>...</td>\n",
              "      <td>...</td>\n",
              "      <td>...</td>\n",
              "      <td>...</td>\n",
              "      <td>...</td>\n",
              "      <td>...</td>\n",
              "      <td>...</td>\n",
              "      <td>...</td>\n",
              "      <td>...</td>\n",
              "      <td>...</td>\n",
              "      <td>...</td>\n",
              "      <td>...</td>\n",
              "      <td>...</td>\n",
              "      <td>...</td>\n",
              "      <td>...</td>\n",
              "      <td>...</td>\n",
              "      <td>...</td>\n",
              "      <td>...</td>\n",
              "      <td>...</td>\n",
              "      <td>...</td>\n",
              "      <td>...</td>\n",
              "      <td>...</td>\n",
              "      <td>...</td>\n",
              "      <td>...</td>\n",
              "      <td>...</td>\n",
              "      <td>...</td>\n",
              "      <td>...</td>\n",
              "      <td>...</td>\n",
              "      <td>...</td>\n",
              "      <td>...</td>\n",
              "      <td>...</td>\n",
              "      <td>...</td>\n",
              "      <td>...</td>\n",
              "      <td>...</td>\n",
              "      <td>...</td>\n",
              "      <td>...</td>\n",
              "      <td>...</td>\n",
              "      <td>...</td>\n",
              "      <td>...</td>\n",
              "      <td>...</td>\n",
              "      <td>...</td>\n",
              "      <td>...</td>\n",
              "      <td>...</td>\n",
              "      <td>...</td>\n",
              "      <td>...</td>\n",
              "      <td>...</td>\n",
              "      <td>...</td>\n",
              "      <td>...</td>\n",
              "      <td>...</td>\n",
              "      <td>...</td>\n",
              "      <td>...</td>\n",
              "      <td>...</td>\n",
              "      <td>...</td>\n",
              "      <td>...</td>\n",
              "      <td>...</td>\n",
              "      <td>...</td>\n",
              "      <td>...</td>\n",
              "      <td>...</td>\n",
              "      <td>...</td>\n",
              "      <td>...</td>\n",
              "      <td>...</td>\n",
              "    </tr>\n",
              "    <tr>\n",
              "      <th>187</th>\n",
              "      <td>D:\\newly added\\Others.190713\\Academic\\PhD\\data...</td>\n",
              "      <td>LR18_SPG_2013_T_Y_20</td>\n",
              "      <td>SPG</td>\n",
              "      <td>tan</td>\n",
              "      <td>yellow</td>\n",
              "      <td>2</td>\n",
              "      <td>1</td>\n",
              "      <td>0.271960</td>\n",
              "      <td>0.155155</td>\n",
              "      <td>1</td>\n",
              "      <td>0.421792</td>\n",
              "      <td>0.012157</td>\n",
              "      <td>6.368023</td>\n",
              "      <td>0.169788</td>\n",
              "      <td>0.016503</td>\n",
              "      <td>0.001219</td>\n",
              "      <td>0.001602</td>\n",
              "      <td>0.001357</td>\n",
              "      <td>0.045526</td>\n",
              "      <td>0.632815</td>\n",
              "      <td>0.072004</td>\n",
              "      <td>0.006862</td>\n",
              "      <td>1.290148</td>\n",
              "      <td>0.200731</td>\n",
              "      <td>0.004798</td>\n",
              "      <td>0.146481</td>\n",
              "      <td>1</td>\n",
              "      <td>40.430222</td>\n",
              "      <td>0.513288</td>\n",
              "      <td>663.930575</td>\n",
              "      <td>0.007116</td>\n",
              "      <td>0.003192</td>\n",
              "      <td>23.474914</td>\n",
              "      <td>0.000000</td>\n",
              "      <td>3.085650</td>\n",
              "      <td>0.341031</td>\n",
              "      <td>0.151507</td>\n",
              "      <td>0.199676</td>\n",
              "      <td>0.006200</td>\n",
              "      <td>0.058230</td>\n",
              "      <td>...</td>\n",
              "      <td>0.000381</td>\n",
              "      <td>0.024820</td>\n",
              "      <td>0.600659</td>\n",
              "      <td>3.081655</td>\n",
              "      <td>3.430192</td>\n",
              "      <td>0.833553</td>\n",
              "      <td>1.027757</td>\n",
              "      <td>1.937880</td>\n",
              "      <td>1.855117</td>\n",
              "      <td>7.758315</td>\n",
              "      <td>1.103864</td>\n",
              "      <td>17.624478</td>\n",
              "      <td>5.313261</td>\n",
              "      <td>0.986656</td>\n",
              "      <td>3.237045</td>\n",
              "      <td>2.327608</td>\n",
              "      <td>14.657002</td>\n",
              "      <td>0.869187</td>\n",
              "      <td>0.882203</td>\n",
              "      <td>1.600290</td>\n",
              "      <td>6.741368</td>\n",
              "      <td>3.667169</td>\n",
              "      <td>2.388630</td>\n",
              "      <td>9.125953</td>\n",
              "      <td>3.206254</td>\n",
              "      <td>1.531112</td>\n",
              "      <td>1.760871</td>\n",
              "      <td>1.328928</td>\n",
              "      <td>3.121433</td>\n",
              "      <td>1.485192</td>\n",
              "      <td>1.695474</td>\n",
              "      <td>1.151530</td>\n",
              "      <td>0.581091</td>\n",
              "      <td>0.709264</td>\n",
              "      <td>1.938521</td>\n",
              "      <td>1.752268</td>\n",
              "      <td>3.850936</td>\n",
              "      <td>1.000876</td>\n",
              "      <td>0.650425</td>\n",
              "      <td>0.685759</td>\n",
              "    </tr>\n",
              "    <tr>\n",
              "      <th>188</th>\n",
              "      <td>D:\\newly added\\Others.190713\\Academic\\PhD\\data...</td>\n",
              "      <td>LR18_SPG_2013_T_Y_20</td>\n",
              "      <td>SPG</td>\n",
              "      <td>tan</td>\n",
              "      <td>yellow</td>\n",
              "      <td>1</td>\n",
              "      <td>1</td>\n",
              "      <td>0.267160</td>\n",
              "      <td>0.179493</td>\n",
              "      <td>1</td>\n",
              "      <td>0.556286</td>\n",
              "      <td>0.017998</td>\n",
              "      <td>6.111939</td>\n",
              "      <td>0.235723</td>\n",
              "      <td>0.003893</td>\n",
              "      <td>0.001415</td>\n",
              "      <td>0.001274</td>\n",
              "      <td>0.000637</td>\n",
              "      <td>0.087943</td>\n",
              "      <td>0.566859</td>\n",
              "      <td>0.059928</td>\n",
              "      <td>0.005696</td>\n",
              "      <td>1.161732</td>\n",
              "      <td>0.156608</td>\n",
              "      <td>0.008089</td>\n",
              "      <td>0.160631</td>\n",
              "      <td>1</td>\n",
              "      <td>45.169495</td>\n",
              "      <td>0.327456</td>\n",
              "      <td>424.018618</td>\n",
              "      <td>0.007128</td>\n",
              "      <td>0.004845</td>\n",
              "      <td>13.442690</td>\n",
              "      <td>0.002277</td>\n",
              "      <td>2.507091</td>\n",
              "      <td>0.196561</td>\n",
              "      <td>0.053962</td>\n",
              "      <td>0.195269</td>\n",
              "      <td>0.012215</td>\n",
              "      <td>0.074462</td>\n",
              "      <td>...</td>\n",
              "      <td>0.000775</td>\n",
              "      <td>0.016795</td>\n",
              "      <td>0.733168</td>\n",
              "      <td>4.985638</td>\n",
              "      <td>5.157499</td>\n",
              "      <td>1.399993</td>\n",
              "      <td>1.541751</td>\n",
              "      <td>2.483943</td>\n",
              "      <td>1.349983</td>\n",
              "      <td>9.498573</td>\n",
              "      <td>1.211172</td>\n",
              "      <td>25.176990</td>\n",
              "      <td>7.219147</td>\n",
              "      <td>1.457884</td>\n",
              "      <td>5.362852</td>\n",
              "      <td>3.003506</td>\n",
              "      <td>20.790653</td>\n",
              "      <td>1.317878</td>\n",
              "      <td>1.548112</td>\n",
              "      <td>2.054250</td>\n",
              "      <td>10.094071</td>\n",
              "      <td>5.147285</td>\n",
              "      <td>3.589163</td>\n",
              "      <td>15.811893</td>\n",
              "      <td>5.593133</td>\n",
              "      <td>2.334519</td>\n",
              "      <td>3.185905</td>\n",
              "      <td>2.468387</td>\n",
              "      <td>5.501190</td>\n",
              "      <td>3.003221</td>\n",
              "      <td>3.262934</td>\n",
              "      <td>1.883196</td>\n",
              "      <td>1.025706</td>\n",
              "      <td>1.217148</td>\n",
              "      <td>3.558127</td>\n",
              "      <td>2.875728</td>\n",
              "      <td>5.619058</td>\n",
              "      <td>2.056144</td>\n",
              "      <td>1.375076</td>\n",
              "      <td>1.013798</td>\n",
              "    </tr>\n",
              "    <tr>\n",
              "      <th>189</th>\n",
              "      <td>D:\\newly added\\Others.190713\\Academic\\PhD\\data...</td>\n",
              "      <td>LR18_SPG_2013_T_Y_32</td>\n",
              "      <td>SPG</td>\n",
              "      <td>tan</td>\n",
              "      <td>yellow</td>\n",
              "      <td>3</td>\n",
              "      <td>1</td>\n",
              "      <td>0.294082</td>\n",
              "      <td>0.082789</td>\n",
              "      <td>1</td>\n",
              "      <td>0.213208</td>\n",
              "      <td>0.005951</td>\n",
              "      <td>4.426737</td>\n",
              "      <td>0.033092</td>\n",
              "      <td>0.001525</td>\n",
              "      <td>0.001015</td>\n",
              "      <td>0.000707</td>\n",
              "      <td>0.000297</td>\n",
              "      <td>0.049747</td>\n",
              "      <td>0.384311</td>\n",
              "      <td>0.049591</td>\n",
              "      <td>0.003870</td>\n",
              "      <td>0.859068</td>\n",
              "      <td>0.127671</td>\n",
              "      <td>0.006193</td>\n",
              "      <td>0.118998</td>\n",
              "      <td>1</td>\n",
              "      <td>30.400239</td>\n",
              "      <td>0.290016</td>\n",
              "      <td>580.467748</td>\n",
              "      <td>0.011744</td>\n",
              "      <td>0.000419</td>\n",
              "      <td>24.328717</td>\n",
              "      <td>0.005927</td>\n",
              "      <td>2.614541</td>\n",
              "      <td>1.218455</td>\n",
              "      <td>0.110402</td>\n",
              "      <td>0.145148</td>\n",
              "      <td>0.021167</td>\n",
              "      <td>0.065138</td>\n",
              "      <td>...</td>\n",
              "      <td>0.001334</td>\n",
              "      <td>0.027574</td>\n",
              "      <td>0.341190</td>\n",
              "      <td>1.876955</td>\n",
              "      <td>1.825221</td>\n",
              "      <td>0.370301</td>\n",
              "      <td>0.473518</td>\n",
              "      <td>1.545349</td>\n",
              "      <td>2.255762</td>\n",
              "      <td>4.962242</td>\n",
              "      <td>0.600423</td>\n",
              "      <td>11.013363</td>\n",
              "      <td>3.190744</td>\n",
              "      <td>0.609940</td>\n",
              "      <td>2.857436</td>\n",
              "      <td>1.722253</td>\n",
              "      <td>9.961491</td>\n",
              "      <td>0.643206</td>\n",
              "      <td>0.656863</td>\n",
              "      <td>0.987602</td>\n",
              "      <td>3.269052</td>\n",
              "      <td>2.304356</td>\n",
              "      <td>1.218810</td>\n",
              "      <td>5.211738</td>\n",
              "      <td>2.080255</td>\n",
              "      <td>0.854200</td>\n",
              "      <td>0.999074</td>\n",
              "      <td>0.605981</td>\n",
              "      <td>1.354751</td>\n",
              "      <td>1.113589</td>\n",
              "      <td>0.811968</td>\n",
              "      <td>0.403628</td>\n",
              "      <td>0.216662</td>\n",
              "      <td>0.307499</td>\n",
              "      <td>1.235356</td>\n",
              "      <td>1.324749</td>\n",
              "      <td>2.143507</td>\n",
              "      <td>0.691720</td>\n",
              "      <td>0.481195</td>\n",
              "      <td>0.277254</td>\n",
              "    </tr>\n",
              "    <tr>\n",
              "      <th>190</th>\n",
              "      <td>D:\\newly added\\Others.190713\\Academic\\PhD\\data...</td>\n",
              "      <td>LR18_SPG_2013_T_Y_32</td>\n",
              "      <td>SPG</td>\n",
              "      <td>tan</td>\n",
              "      <td>yellow</td>\n",
              "      <td>2</td>\n",
              "      <td>1</td>\n",
              "      <td>0.181984</td>\n",
              "      <td>0.078145</td>\n",
              "      <td>1</td>\n",
              "      <td>0.406833</td>\n",
              "      <td>0.013477</td>\n",
              "      <td>5.409177</td>\n",
              "      <td>0.056670</td>\n",
              "      <td>0.004939</td>\n",
              "      <td>0.002073</td>\n",
              "      <td>0.000886</td>\n",
              "      <td>0.001096</td>\n",
              "      <td>0.060952</td>\n",
              "      <td>0.692253</td>\n",
              "      <td>0.076339</td>\n",
              "      <td>0.008041</td>\n",
              "      <td>1.476814</td>\n",
              "      <td>0.204772</td>\n",
              "      <td>0.006642</td>\n",
              "      <td>0.223092</td>\n",
              "      <td>1</td>\n",
              "      <td>19.868097</td>\n",
              "      <td>0.370030</td>\n",
              "      <td>516.739747</td>\n",
              "      <td>0.011650</td>\n",
              "      <td>0.021839</td>\n",
              "      <td>29.392399</td>\n",
              "      <td>0.010319</td>\n",
              "      <td>1.675035</td>\n",
              "      <td>0.552408</td>\n",
              "      <td>0.121284</td>\n",
              "      <td>0.192978</td>\n",
              "      <td>0.029863</td>\n",
              "      <td>0.154152</td>\n",
              "      <td>...</td>\n",
              "      <td>0.000427</td>\n",
              "      <td>0.024346</td>\n",
              "      <td>0.693639</td>\n",
              "      <td>2.992374</td>\n",
              "      <td>3.103386</td>\n",
              "      <td>0.768305</td>\n",
              "      <td>0.950382</td>\n",
              "      <td>1.732832</td>\n",
              "      <td>0.889240</td>\n",
              "      <td>8.207861</td>\n",
              "      <td>0.692037</td>\n",
              "      <td>17.444850</td>\n",
              "      <td>5.107568</td>\n",
              "      <td>0.803456</td>\n",
              "      <td>4.037020</td>\n",
              "      <td>2.419908</td>\n",
              "      <td>15.369270</td>\n",
              "      <td>0.787348</td>\n",
              "      <td>1.124746</td>\n",
              "      <td>1.507057</td>\n",
              "      <td>6.832425</td>\n",
              "      <td>3.679979</td>\n",
              "      <td>2.069205</td>\n",
              "      <td>8.873004</td>\n",
              "      <td>3.544996</td>\n",
              "      <td>1.502330</td>\n",
              "      <td>1.689047</td>\n",
              "      <td>1.201980</td>\n",
              "      <td>2.939197</td>\n",
              "      <td>1.565018</td>\n",
              "      <td>1.546322</td>\n",
              "      <td>1.025483</td>\n",
              "      <td>0.533142</td>\n",
              "      <td>0.532911</td>\n",
              "      <td>2.599370</td>\n",
              "      <td>1.864735</td>\n",
              "      <td>3.710346</td>\n",
              "      <td>1.101132</td>\n",
              "      <td>0.606611</td>\n",
              "      <td>0.618673</td>\n",
              "    </tr>\n",
              "    <tr>\n",
              "      <th>191</th>\n",
              "      <td>D:\\newly added\\Others.190713\\Academic\\PhD\\data...</td>\n",
              "      <td>LR18_SPG_2013_T_Y_32</td>\n",
              "      <td>SPG</td>\n",
              "      <td>tan</td>\n",
              "      <td>yellow</td>\n",
              "      <td>1</td>\n",
              "      <td>1</td>\n",
              "      <td>0.304735</td>\n",
              "      <td>0.224710</td>\n",
              "      <td>1</td>\n",
              "      <td>0.376781</td>\n",
              "      <td>0.015387</td>\n",
              "      <td>3.015345</td>\n",
              "      <td>0.032588</td>\n",
              "      <td>0.001472</td>\n",
              "      <td>0.001189</td>\n",
              "      <td>0.000515</td>\n",
              "      <td>0.003051</td>\n",
              "      <td>0.051076</td>\n",
              "      <td>0.392195</td>\n",
              "      <td>0.034200</td>\n",
              "      <td>0.005637</td>\n",
              "      <td>0.762440</td>\n",
              "      <td>0.093832</td>\n",
              "      <td>0.013705</td>\n",
              "      <td>0.116431</td>\n",
              "      <td>1</td>\n",
              "      <td>28.730540</td>\n",
              "      <td>0.230167</td>\n",
              "      <td>394.807975</td>\n",
              "      <td>0.006916</td>\n",
              "      <td>0.005037</td>\n",
              "      <td>16.147960</td>\n",
              "      <td>0.006873</td>\n",
              "      <td>1.840097</td>\n",
              "      <td>0.563731</td>\n",
              "      <td>0.036726</td>\n",
              "      <td>0.169051</td>\n",
              "      <td>0.018367</td>\n",
              "      <td>0.159399</td>\n",
              "      <td>...</td>\n",
              "      <td>0.000363</td>\n",
              "      <td>0.006075</td>\n",
              "      <td>0.423374</td>\n",
              "      <td>2.349202</td>\n",
              "      <td>2.383913</td>\n",
              "      <td>0.616140</td>\n",
              "      <td>0.613841</td>\n",
              "      <td>1.379154</td>\n",
              "      <td>1.058152</td>\n",
              "      <td>5.623772</td>\n",
              "      <td>0.662711</td>\n",
              "      <td>13.022014</td>\n",
              "      <td>3.995135</td>\n",
              "      <td>0.785143</td>\n",
              "      <td>2.843245</td>\n",
              "      <td>1.929612</td>\n",
              "      <td>12.040746</td>\n",
              "      <td>0.552141</td>\n",
              "      <td>0.872599</td>\n",
              "      <td>1.015936</td>\n",
              "      <td>4.938884</td>\n",
              "      <td>2.858923</td>\n",
              "      <td>1.651004</td>\n",
              "      <td>7.431864</td>\n",
              "      <td>2.981953</td>\n",
              "      <td>1.067803</td>\n",
              "      <td>1.356326</td>\n",
              "      <td>1.045609</td>\n",
              "      <td>2.218507</td>\n",
              "      <td>1.244191</td>\n",
              "      <td>1.281276</td>\n",
              "      <td>0.834193</td>\n",
              "      <td>0.334196</td>\n",
              "      <td>0.405030</td>\n",
              "      <td>2.046620</td>\n",
              "      <td>1.701029</td>\n",
              "      <td>3.141939</td>\n",
              "      <td>0.695117</td>\n",
              "      <td>0.504919</td>\n",
              "      <td>0.501227</td>\n",
              "    </tr>\n",
              "  </tbody>\n",
              "</table>\n",
              "<p>192 rows × 101 columns</p>\n",
              "</div>"
            ],
            "text/plain": [
              "                                                Folder  ...    1525.1\n",
              "0    D:\\newly added\\Others.190713\\Academic\\PhD\\data...  ...  0.716158\n",
              "1    D:\\newly added\\Others.190713\\Academic\\PhD\\data...  ...  0.848644\n",
              "2    D:\\newly added\\Others.190713\\Academic\\PhD\\data...  ...  0.919429\n",
              "3    D:\\newly added\\Others.190713\\Academic\\PhD\\data...  ...  0.000000\n",
              "4    D:\\newly added\\Others.190713\\Academic\\PhD\\data...  ...  1.043973\n",
              "..                                                 ...  ...       ...\n",
              "187  D:\\newly added\\Others.190713\\Academic\\PhD\\data...  ...  0.685759\n",
              "188  D:\\newly added\\Others.190713\\Academic\\PhD\\data...  ...  1.013798\n",
              "189  D:\\newly added\\Others.190713\\Academic\\PhD\\data...  ...  0.277254\n",
              "190  D:\\newly added\\Others.190713\\Academic\\PhD\\data...  ...  0.618673\n",
              "191  D:\\newly added\\Others.190713\\Academic\\PhD\\data...  ...  0.501227\n",
              "\n",
              "[192 rows x 101 columns]"
            ]
          },
          "metadata": {
            "tags": []
          },
          "execution_count": 6
        }
      ]
    },
    {
      "cell_type": "markdown",
      "metadata": {
        "id": "tJY5qWB3UCX7",
        "colab_type": "text"
      },
      "source": [
        "# Data cleaning"
      ]
    },
    {
      "cell_type": "code",
      "metadata": {
        "id": "2Z2wpOIt-_Jy",
        "colab_type": "code",
        "colab": {
          "base_uri": "https://localhost:8080/",
          "height": 1000
        },
        "outputId": "fb323988-c9c6-4c57-8136-3b178599784e"
      },
      "source": [
        "# sort the columns alphabatically\n",
        "df = df.sort_index(axis=1)\n",
        "# print names of the columns\n",
        "for col in df.columns: \n",
        "    print(col) \n",
        "# convert labels to numerical values\n",
        "print(df['hull'].value_counts())\n",
        "df['hull1'] = df['hull'].astype('category')\n",
        "df.dtypes\n",
        "df['hull1'] = df['hull1'].cat.codes"
      ],
      "execution_count": 8,
      "outputs": [
        {
          "output_type": "stream",
          "text": [
            "1155.9I\n",
            "1155.9II\n",
            "1171.8I\n",
            "1171.8II\n",
            "1171.8III\n",
            "1187.8I\n",
            "1187.8II\n",
            "1187.8III\n",
            "1204.8I\n",
            "1204.8II\n",
            "1204.8III\n",
            "1444.1I\n",
            "1444.1II\n",
            "1460.1I\n",
            "1460.1II\n",
            "1475.8I\n",
            "1475.8II\n",
            "1492.2I\n",
            "1492.2II\n",
            "1509.2I\n",
            "1509.2II\n",
            "1525.1\n",
            "1748.2\n",
            "1764.4\n",
            "3_cinn\n",
            "4_coum\n",
            "4_sal\n",
            "595.6I\n",
            "595.6II\n",
            "595.6IV\n",
            "609.6\n",
            "731.7\n",
            "883.7I\n",
            "883.7II\n",
            "883.7IV\n",
            "899.7I\n",
            "899.7II\n",
            "899.7III\n",
            "915.6II\n",
            "915.6III\n",
            "915.6IV\n",
            "A2\n",
            "B1\n",
            "B2\n",
            "C1\n",
            "CCC_I\n",
            "CCC_II\n",
            "CCC_III\n",
            "CC_I\n",
            "CC_II\n",
            "Folder\n",
            "apig\n",
            "apig_7gluc\n",
            "cat\n",
            "cat_13C\n",
            "cat_gluc\n",
            "cotyledon\n",
            "epi_cat\n",
            "epi_cat_gall\n",
            "epi_gallo\n",
            "epi_gallo_gall\n",
            "flav\n",
            "flavan\n",
            "gallo\n",
            "genotypes\n",
            "hull\n",
            "hull1\n",
            "kaem_3gluc\n",
            "kaemp\n",
            "kaemp_3robin_7rhamn\n",
            "kaemp_3rutin\n",
            "kaemp_7neohesp\n",
            "kaemp_di_rut\n",
            "kaemp_rhamn_galact\n",
            "kaemp_rhamn_gluc_I\n",
            "kaemp_rhamn_gluc_II\n",
            "kaempf_rhamn\n",
            "location\n",
            "lut\n",
            "lut_3_7di_gluc\n",
            "lut_4gluc\n",
            "lut_7gluc\n",
            "lut_di_gluc\n",
            "malv_3galact\n",
            "myr\n",
            "myr_3rhamn\n",
            "narin\n",
            "querc\n",
            "querc_3_4di_gluc\n",
            "querc_3galact\n",
            "querc_3gluc\n",
            "querc_3rhamn\n",
            "querc_3rutin\n",
            "querc_4gluc\n",
            "querc_di_glucI\n",
            "querc_di_glucII\n",
            "querc_glucI\n",
            "querc_glucII\n",
            "querc_glucIII\n",
            "rep\n",
            "resv_3gluc\n",
            "vanil_4gluc\n",
            "green    48\n",
            "grey     48\n",
            "tan      48\n",
            "brown    48\n",
            "Name: hull, dtype: int64\n"
          ],
          "name": "stdout"
        }
      ]
    },
    {
      "cell_type": "code",
      "metadata": {
        "id": "97tfpNzD02fX",
        "colab_type": "code",
        "outputId": "61b8fe59-a6e2-4aa2-a8a2-0234ce354637",
        "colab": {
          "base_uri": "https://localhost:8080/",
          "height": 35
        }
      },
      "source": [
        "# drop the rows with missing data\n",
        "df = df.drop(df[(df.cat == 0)| (df['1748.2'] == 0)].index)\n",
        "print(len(df))\n",
        "# omitting some of the columns\n",
        "df = df.drop(['Folder','genotypes','location','hull','cotyledon','rep',\n",
        "                         '4_sal','4_coum','3_cinn','cat_13C'], axis = 1)\n"
      ],
      "execution_count": 9,
      "outputs": [
        {
          "output_type": "stream",
          "text": [
            "190\n"
          ],
          "name": "stdout"
        }
      ]
    },
    {
      "cell_type": "code",
      "metadata": {
        "id": "iil9nIA0txuo",
        "colab_type": "code",
        "outputId": "ec7e74f2-ea33-4455-8f70-097ea7abb1f7",
        "colab": {
          "base_uri": "https://localhost:8080/",
          "height": 108
        }
      },
      "source": [
        "print(df['hull1'].value_counts())"
      ],
      "execution_count": 10,
      "outputs": [
        {
          "output_type": "stream",
          "text": [
            "3    48\n",
            "1    48\n",
            "2    47\n",
            "0    47\n",
            "Name: hull1, dtype: int64\n"
          ],
          "name": "stdout"
        }
      ]
    },
    {
      "cell_type": "markdown",
      "metadata": {
        "id": "wULwNizhJMIl",
        "colab_type": "text"
      },
      "source": [
        "# **Model # 1 : Random Forest**"
      ]
    },
    {
      "cell_type": "markdown",
      "metadata": {
        "id": "-B4Z5MoOdai3",
        "colab_type": "text"
      },
      "source": [
        " **Original model**"
      ]
    },
    {
      "cell_type": "code",
      "metadata": {
        "id": "Uvi3xpBuL9lP",
        "colab_type": "code",
        "outputId": "69d462b7-2541-42c2-b6de-4688a6322c5b",
        "colab": {
          "base_uri": "https://localhost:8080/",
          "height": 294
        }
      },
      "source": [
        "x = np.asarray(df.drop(['hull1'], axis = 1)) \n",
        "y= np.asarray(df['hull1'])\n",
        "pt = PowerTransformer() # for standarizatiion of data with outliers; making mean = 0 and std = 1\n",
        "x = pt.fit_transform(x)\n",
        "x_train, x_test, y_train, y_test = train_test_split(x,y, train_size = 0.7, test_size = 0.3, random_state = 100)\n",
        "model = RandomForestClassifier()\n",
        "model.fit(x_train, y_train)\n",
        "y_pred = model.predict(x_test)\n",
        "print(confusion_matrix(y_test, y_pred))\n",
        "print(classification_report(y_test, y_pred))"
      ],
      "execution_count": 0,
      "outputs": [
        {
          "output_type": "stream",
          "text": [
            "[[11  1  1  0]\n",
            " [ 0 12  2  1]\n",
            " [ 0  4 10  2]\n",
            " [ 3  1  2  7]]\n",
            "              precision    recall  f1-score   support\n",
            "\n",
            "           0       0.79      0.85      0.81        13\n",
            "           1       0.67      0.80      0.73        15\n",
            "           2       0.67      0.62      0.65        16\n",
            "           3       0.70      0.54      0.61        13\n",
            "\n",
            "    accuracy                           0.70        57\n",
            "   macro avg       0.70      0.70      0.70        57\n",
            "weighted avg       0.70      0.70      0.70        57\n",
            "\n"
          ],
          "name": "stdout"
        }
      ]
    },
    {
      "cell_type": "code",
      "metadata": {
        "id": "0g7feKLZTsEe",
        "colab_type": "code",
        "colab": {}
      },
      "source": [
        "pprint(model.get_params())"
      ],
      "execution_count": 0,
      "outputs": []
    },
    {
      "cell_type": "code",
      "metadata": {
        "id": "BBMAIB7-T8ES",
        "colab_type": "code",
        "colab": {}
      },
      "source": [
        "param_grid = {\n",
        "    'bootstrap': [True],\n",
        "    'max_depth': [20,30, 40],\n",
        "    'max_features': [20,30, 40],\n",
        "    'min_samples_leaf': [2,4,6],\n",
        "    'min_samples_split': [7, 10, 12],\n",
        "    'n_estimators': [200,400, 800]\n",
        "}\n",
        "# Create a based model\n",
        "grid_search = GridSearchCV(estimator = model, param_grid = param_grid, \n",
        "                          cv = 5, n_jobs = -1, verbose = 2)\n",
        "# Fit the grid search to the data\n",
        "grid_search.fit(x_train, y_train)\n",
        "grid_search.best_params_"
      ],
      "execution_count": 0,
      "outputs": []
    },
    {
      "cell_type": "markdown",
      "metadata": {
        "colab_type": "text",
        "id": "CO7mw_UcggiX"
      },
      "source": [
        "**Tuned Model**"
      ]
    },
    {
      "cell_type": "code",
      "metadata": {
        "id": "o0oXYuMWgUsL",
        "colab_type": "code",
        "outputId": "e4a661ae-ab34-4b2c-85b1-d746128beca0",
        "colab": {
          "base_uri": "https://localhost:8080/",
          "height": 516
        }
      },
      "source": [
        "x = np.asarray(df.drop(['hull1'], axis = 1)) \n",
        "y= np.asarray(df['hull1'])\n",
        "pt = PowerTransformer() \n",
        "x = pt.fit_transform(x)\n",
        "x_train1, x_test1, y_train1, y_test1 = train_test_split(x,y, train_size = 0.7, test_size = 0.3, random_state = 100)\n",
        "model1 = RandomForestClassifier(n_estimators = 200,min_samples_split = 12\n",
        ",min_samples_leaf = 4, max_features = 40, max_depth=20, bootstrap= True)\n",
        "model1.fit(x_train1, y_train1)\n",
        "y_pred1 = model1.predict(x_test1)\n",
        "print(confusion_matrix(y_test1, y_pred1))\n",
        "print(classification_report(y_test1, y_pred1))\n",
        "accuracy = metrics.accuracy_score(y_test1, y_pred1)\n",
        "print(accuracy)\n",
        "kf = KFold(n_splits=10)\n",
        "scores1 = cross_val_score(model1, x_train1, y_train1, cv=kf)\n",
        "print(pd.DataFrame(scores1), np.mean(scores1), np.std(scores1))"
      ],
      "execution_count": 0,
      "outputs": [
        {
          "output_type": "stream",
          "text": [
            "[[11  1  0  1]\n",
            " [ 1 12  1  1]\n",
            " [ 0  3 11  2]\n",
            " [ 3  1  2  7]]\n",
            "              precision    recall  f1-score   support\n",
            "\n",
            "           0       0.73      0.85      0.79        13\n",
            "           1       0.71      0.80      0.75        15\n",
            "           2       0.79      0.69      0.73        16\n",
            "           3       0.64      0.54      0.58        13\n",
            "\n",
            "    accuracy                           0.72        57\n",
            "   macro avg       0.72      0.72      0.71        57\n",
            "weighted avg       0.72      0.72      0.72        57\n",
            "\n",
            "0.7192982456140351\n",
            "          0\n",
            "0  0.928571\n",
            "1  0.857143\n",
            "2  0.714286\n",
            "3  0.846154\n",
            "4  0.846154\n",
            "5  0.615385\n",
            "6  0.769231\n",
            "7  0.846154\n",
            "8  0.923077\n",
            "9  0.615385 0.7961538461538462 0.10846465586666414\n"
          ],
          "name": "stdout"
        }
      ]
    },
    {
      "cell_type": "markdown",
      "metadata": {
        "id": "GZyFeNgVH0-s",
        "colab_type": "text"
      },
      "source": [
        "# **Model # 2 : KNN**"
      ]
    },
    {
      "cell_type": "markdown",
      "metadata": {
        "id": "zR10PKBfd3Cr",
        "colab_type": "text"
      },
      "source": [
        "**Original model**"
      ]
    },
    {
      "cell_type": "code",
      "metadata": {
        "id": "3Nqk5Ip63YQE",
        "colab_type": "code",
        "outputId": "aa52e0a7-1913-4d51-ccc2-47ebfce97383",
        "colab": {
          "base_uri": "https://localhost:8080/",
          "height": 294
        }
      },
      "source": [
        "x = np.asarray(df.drop(['hull1'], axis = 1)) \n",
        "y= np.asarray(df['hull1'])\n",
        "pt = PowerTransformer() \n",
        "x = pt.fit_transform(x)\n",
        "x_train, x_test, y_train, y_test = train_test_split(x,y, train_size = 0.7, test_size = 0.3, random_state = 100)\n",
        "model = KNeighborsClassifier(n_neighbors=15)\n",
        "model.fit(x_train, y_train)\n",
        "y_pred = model.predict(x_test)\n",
        "print(confusion_matrix(y_test, y_pred))\n",
        "print(classification_report(y_test, y_pred))"
      ],
      "execution_count": 0,
      "outputs": [
        {
          "output_type": "stream",
          "text": [
            "[[ 8  1  1  3]\n",
            " [ 1 12  2  0]\n",
            " [ 0  7  6  3]\n",
            " [ 1  2  1  9]]\n",
            "              precision    recall  f1-score   support\n",
            "\n",
            "           0       0.80      0.62      0.70        13\n",
            "           1       0.55      0.80      0.65        15\n",
            "           2       0.60      0.38      0.46        16\n",
            "           3       0.60      0.69      0.64        13\n",
            "\n",
            "    accuracy                           0.61        57\n",
            "   macro avg       0.64      0.62      0.61        57\n",
            "weighted avg       0.63      0.61      0.61        57\n",
            "\n"
          ],
          "name": "stdout"
        }
      ]
    },
    {
      "cell_type": "markdown",
      "metadata": {
        "id": "OOKZg7CXd7T-",
        "colab_type": "text"
      },
      "source": [
        " **Hyperparameters tuning**"
      ]
    },
    {
      "cell_type": "code",
      "metadata": {
        "id": "YTLgMQiqN2N1",
        "colab_type": "code",
        "colab": {}
      },
      "source": [
        "pprint(model.get_params())"
      ],
      "execution_count": 0,
      "outputs": []
    },
    {
      "cell_type": "code",
      "metadata": {
        "id": "N0XZldQZEX20",
        "colab_type": "code",
        "colab": {}
      },
      "source": [
        "param_grid = {\n",
        "    'n_neighbors': [5,10, 50], \n",
        "    'weights': [ 'uniform', 'distance'], \n",
        "    'metric': ['euclidean', 'manhattan','minkowski']}\n",
        "# Create a based model\n",
        "grid_search = GridSearchCV(model, param_grid = param_grid)\n",
        "# Fit the grid search to the data\n",
        "grid_search.fit(x_train, y_train)\n",
        "print(grid_search.best_params_)"
      ],
      "execution_count": 0,
      "outputs": []
    },
    {
      "cell_type": "markdown",
      "metadata": {
        "id": "sEchQfCjeG8P",
        "colab_type": "text"
      },
      "source": [
        "**Tuned model**"
      ]
    },
    {
      "cell_type": "code",
      "metadata": {
        "id": "L9HzxMh4E8cz",
        "colab_type": "code",
        "outputId": "19e842e9-2f9e-4e27-a547-a1c57f89ad55",
        "colab": {
          "base_uri": "https://localhost:8080/",
          "height": 516
        }
      },
      "source": [
        "# Evaluating the model with tuned hyper parameters\n",
        "x = np.asarray(df.drop(['hull1'], axis = 1)) \n",
        "y= np.asarray(df['hull1'])\n",
        "pt = PowerTransformer() \n",
        "x = pt.fit_transform(x)\n",
        "x_train2, x_test2, y_train2, y_test2 = train_test_split(x,y, train_size = 0.7, test_size = 0.3, random_state = 100)\n",
        "model2 = KNeighborsClassifier(metric= 'manhattan', n_neighbors=5, weights= 'distance')\n",
        "model2.fit(x_train2, y_train2)\n",
        "y_pred2 = model2.predict(x_test2)\n",
        "print(confusion_matrix(y_test2, y_pred2))\n",
        "print(classification_report(y_test2, y_pred2))\n",
        "accuracy = metrics.accuracy_score(y_test2, y_pred2)\n",
        "print(accuracy)\n",
        "kf = KFold(n_splits=10)\n",
        "scores2 = cross_val_score(model2, x_train2, y_train2, cv=kf)\n",
        "print(pd.DataFrame(scores2), np.mean(scores2), np.std(scores2))"
      ],
      "execution_count": 0,
      "outputs": [
        {
          "output_type": "stream",
          "text": [
            "[[ 8  1  0  4]\n",
            " [ 0 11  3  1]\n",
            " [ 2  4  8  2]\n",
            " [ 0  2  2  9]]\n",
            "              precision    recall  f1-score   support\n",
            "\n",
            "           0       0.80      0.62      0.70        13\n",
            "           1       0.61      0.73      0.67        15\n",
            "           2       0.62      0.50      0.55        16\n",
            "           3       0.56      0.69      0.62        13\n",
            "\n",
            "    accuracy                           0.63        57\n",
            "   macro avg       0.65      0.64      0.63        57\n",
            "weighted avg       0.64      0.63      0.63        57\n",
            "\n",
            "0.631578947368421\n",
            "          0\n",
            "0  0.785714\n",
            "1  0.642857\n",
            "2  0.571429\n",
            "3  0.615385\n",
            "4  0.615385\n",
            "5  0.461538\n",
            "6  0.769231\n",
            "7  0.692308\n",
            "8  0.692308\n",
            "9  0.461538 0.6307692307692309 0.1059114927388306\n"
          ],
          "name": "stdout"
        }
      ]
    },
    {
      "cell_type": "markdown",
      "metadata": {
        "colab_type": "text",
        "id": "8DwrkwKcs4zV"
      },
      "source": [
        "# **Model # 3 : SVM**\n",
        "\n",
        "\n"
      ]
    },
    {
      "cell_type": "markdown",
      "metadata": {
        "colab_type": "text",
        "id": "qR7T0_KptFNR"
      },
      "source": [
        "**Original Model**"
      ]
    },
    {
      "cell_type": "code",
      "metadata": {
        "id": "A3FoSSPksymk",
        "colab_type": "code",
        "outputId": "c709d681-c0ca-47ef-ce42-9acce5d77874",
        "colab": {
          "base_uri": "https://localhost:8080/",
          "height": 294
        }
      },
      "source": [
        "x = np.asarray(df.drop(['hull1'], axis = 1)) \n",
        "y= np.asarray(df['hull1'])\n",
        "pt = PowerTransformer() \n",
        "x = pt.fit_transform(x)\n",
        "x_train, x_test, y_train, y_test = train_test_split(x,y, train_size = 0.7, test_size = 0.3, random_state = 100)\n",
        "model = SVC()\n",
        "model.fit(x_train, y_train)\n",
        "y_pred = model.predict(x_test)\n",
        "print(confusion_matrix(y_test, y_pred))\n",
        "print(classification_report(y_test, y_pred))"
      ],
      "execution_count": 0,
      "outputs": [
        {
          "output_type": "stream",
          "text": [
            "[[ 9  1  1  2]\n",
            " [ 0 12  3  0]\n",
            " [ 0  4 10  2]\n",
            " [ 0  2  1 10]]\n",
            "              precision    recall  f1-score   support\n",
            "\n",
            "           0       1.00      0.69      0.82        13\n",
            "           1       0.63      0.80      0.71        15\n",
            "           2       0.67      0.62      0.65        16\n",
            "           3       0.71      0.77      0.74        13\n",
            "\n",
            "    accuracy                           0.72        57\n",
            "   macro avg       0.75      0.72      0.73        57\n",
            "weighted avg       0.74      0.72      0.72        57\n",
            "\n"
          ],
          "name": "stdout"
        }
      ]
    },
    {
      "cell_type": "markdown",
      "metadata": {
        "colab_type": "text",
        "id": "l3SDVKqxtb4x"
      },
      "source": [
        "**Hyperparameters tuning**"
      ]
    },
    {
      "cell_type": "code",
      "metadata": {
        "id": "4NDxSzASteT6",
        "colab_type": "code",
        "outputId": "185e38e3-a1b6-413c-99be-57a07a875ad2",
        "colab": {
          "base_uri": "https://localhost:8080/",
          "height": 294
        }
      },
      "source": [
        "pprint(model.get_params())"
      ],
      "execution_count": 0,
      "outputs": [
        {
          "output_type": "stream",
          "text": [
            "{'C': 1.0,\n",
            " 'break_ties': False,\n",
            " 'cache_size': 200,\n",
            " 'class_weight': None,\n",
            " 'coef0': 0.0,\n",
            " 'decision_function_shape': 'ovr',\n",
            " 'degree': 3,\n",
            " 'gamma': 'scale',\n",
            " 'kernel': 'rbf',\n",
            " 'max_iter': -1,\n",
            " 'probability': False,\n",
            " 'random_state': None,\n",
            " 'shrinking': True,\n",
            " 'tol': 0.001,\n",
            " 'verbose': False}\n"
          ],
          "name": "stdout"
        }
      ]
    },
    {
      "cell_type": "code",
      "metadata": {
        "id": "V_7BrP5rtoIb",
        "colab_type": "code",
        "colab": {}
      },
      "source": [
        "# kernel = rbf\n",
        "param_grid = {\n",
        "    'C': [ 0.1, 1, 10], \n",
        "    'gamma': [  0.1,0.01,0.001], # for rbf\n",
        "    'kernel': ['rbf']}\n",
        "# Create a based model\n",
        "grid_search = GridSearchCV(model, param_grid = param_grid)\n",
        "# Fit the grid search to the data\n",
        "grid_search.fit(x_train, y_train)\n",
        "print(grid_search.best_params_)"
      ],
      "execution_count": 0,
      "outputs": []
    },
    {
      "cell_type": "code",
      "metadata": {
        "id": "JkvoPxRPtuaf",
        "colab_type": "code",
        "outputId": "d1e34d6c-c5f1-4a81-8c1e-8acedc573a31",
        "colab": {
          "base_uri": "https://localhost:8080/",
          "height": 294
        }
      },
      "source": [
        "# Evaluating the model with rbf kernel and tuned hyper parameters\n",
        "model1 = SVC(C= 10, gamma= 0.01, kernel= 'rbf')\n",
        "model1.fit(x_train, y_train)\n",
        "y_pred = model1.predict(x_test)\n",
        "print(confusion_matrix(y_test, y_pred))\n",
        "print(classification_report(y_test, y_pred))"
      ],
      "execution_count": 0,
      "outputs": [
        {
          "output_type": "stream",
          "text": [
            "[[11  1  0  1]\n",
            " [ 2 12  1  0]\n",
            " [ 0  1 13  2]\n",
            " [ 0  2  1 10]]\n",
            "              precision    recall  f1-score   support\n",
            "\n",
            "           0       0.85      0.85      0.85        13\n",
            "           1       0.75      0.80      0.77        15\n",
            "           2       0.87      0.81      0.84        16\n",
            "           3       0.77      0.77      0.77        13\n",
            "\n",
            "    accuracy                           0.81        57\n",
            "   macro avg       0.81      0.81      0.81        57\n",
            "weighted avg       0.81      0.81      0.81        57\n",
            "\n"
          ],
          "name": "stdout"
        }
      ]
    },
    {
      "cell_type": "code",
      "metadata": {
        "id": "Nck6y3f-txCf",
        "colab_type": "code",
        "outputId": "e2adc542-43d5-4bba-96ad-d18d35d41c48",
        "colab": {
          "base_uri": "https://localhost:8080/",
          "height": 35
        }
      },
      "source": [
        "# kernel = linear\n",
        "param_grid = {\n",
        "    'C': [ 0.1, 1, 10, 100],\n",
        "        'kernel': ['linear']\n",
        "    }\n",
        "# Create a based model\n",
        "grid_search = GridSearchCV(model, param_grid = param_grid)\n",
        "# Fit the grid search to the data\n",
        "grid_search.fit(x_train, y_train)\n",
        "print(grid_search.best_params_)"
      ],
      "execution_count": 0,
      "outputs": [
        {
          "output_type": "stream",
          "text": [
            "{'C': 1, 'kernel': 'linear'}\n"
          ],
          "name": "stdout"
        }
      ]
    },
    {
      "cell_type": "code",
      "metadata": {
        "id": "YxJUDXoovcZL",
        "colab_type": "code",
        "outputId": "6e641b65-4766-4269-fd66-901ae0fef2c4",
        "colab": {
          "base_uri": "https://localhost:8080/",
          "height": 294
        }
      },
      "source": [
        "# Evaluating the model with linear kernel and tuned hyper parameters\n",
        "model2 = SVC(C= 1,  kernel= 'linear')\n",
        "model2.fit(x_train, y_train)\n",
        "y_pred = model2.predict(x_test)\n",
        "print(confusion_matrix(y_test, y_pred))\n",
        "print(classification_report(y_test, y_pred))"
      ],
      "execution_count": 0,
      "outputs": [
        {
          "output_type": "stream",
          "text": [
            "[[ 9  1  1  2]\n",
            " [ 1 10  3  1]\n",
            " [ 0  4 10  2]\n",
            " [ 2  1  3  7]]\n",
            "              precision    recall  f1-score   support\n",
            "\n",
            "           0       0.75      0.69      0.72        13\n",
            "           1       0.62      0.67      0.65        15\n",
            "           2       0.59      0.62      0.61        16\n",
            "           3       0.58      0.54      0.56        13\n",
            "\n",
            "    accuracy                           0.63        57\n",
            "   macro avg       0.64      0.63      0.63        57\n",
            "weighted avg       0.63      0.63      0.63        57\n",
            "\n"
          ],
          "name": "stdout"
        }
      ]
    },
    {
      "cell_type": "code",
      "metadata": {
        "id": "5X0J8Yj8vtpx",
        "colab_type": "code",
        "outputId": "6ea099d0-1086-4e73-f4a2-78e8d2d7565c",
        "colab": {
          "base_uri": "https://localhost:8080/",
          "height": 35
        }
      },
      "source": [
        "# kernel = poly\n",
        "param_grid = {\n",
        "    'C': [  0.01, 1, 10],\n",
        "    'kernel': ['poly'],\n",
        "    'degree' : [1,2,3] # for poly\n",
        "    }\n",
        "# Create a based model\n",
        "grid_search = GridSearchCV(model, param_grid = param_grid)\n",
        "# Fit the grid search to the data\n",
        "grid_search.fit(x_train, y_train)\n",
        "print(grid_search.best_params_)"
      ],
      "execution_count": 0,
      "outputs": [
        {
          "output_type": "stream",
          "text": [
            "{'C': 1, 'degree': 1, 'kernel': 'poly'}\n"
          ],
          "name": "stdout"
        }
      ]
    },
    {
      "cell_type": "code",
      "metadata": {
        "id": "hU_nNqC9vuAi",
        "colab_type": "code",
        "outputId": "463e1807-af4d-4bd0-b1a1-dadf182a16e7",
        "colab": {
          "base_uri": "https://localhost:8080/",
          "height": 294
        }
      },
      "source": [
        "# Evaluating the model with poly kernel and tuned hyper parameters\n",
        "model3 = SVC(C= 1, degree= 1, kernel= 'poly')\n",
        "model3.fit(x_train, y_train)\n",
        "y_pred = model3.predict(x_test)\n",
        "print(confusion_matrix(y_test, y_pred))\n",
        "print(classification_report(y_test, y_pred))"
      ],
      "execution_count": 0,
      "outputs": [
        {
          "output_type": "stream",
          "text": [
            "[[ 7  2  1  3]\n",
            " [ 0 11  3  1]\n",
            " [ 0  5  9  2]\n",
            " [ 0  2  1 10]]\n",
            "              precision    recall  f1-score   support\n",
            "\n",
            "           0       1.00      0.54      0.70        13\n",
            "           1       0.55      0.73      0.63        15\n",
            "           2       0.64      0.56      0.60        16\n",
            "           3       0.62      0.77      0.69        13\n",
            "\n",
            "    accuracy                           0.65        57\n",
            "   macro avg       0.70      0.65      0.65        57\n",
            "weighted avg       0.70      0.65      0.65        57\n",
            "\n"
          ],
          "name": "stdout"
        }
      ]
    },
    {
      "cell_type": "markdown",
      "metadata": {
        "colab_type": "text",
        "id": "9ffLpGkNvjBY"
      },
      "source": [
        "**Tuned model**"
      ]
    },
    {
      "cell_type": "code",
      "metadata": {
        "id": "qC73l5YBvk1S",
        "colab_type": "code",
        "outputId": "ace89768-ccb4-4004-a293-6c865d45d3c0",
        "colab": {
          "base_uri": "https://localhost:8080/",
          "height": 516
        }
      },
      "source": [
        "x = np.asarray(df.drop(['hull1'], axis = 1)) \n",
        "y= np.asarray(df['hull1'])\n",
        "pt = PowerTransformer() \n",
        "x = pt.fit_transform(x)\n",
        "x_train3, x_test3, y_train3, y_test3 = train_test_split(x,y, train_size = 0.65, test_size = 0.35, random_state = 100)\n",
        "model3 = SVC(C= 10, gamma= 0.01, kernel= 'rbf')\n",
        "model3.fit(x_train3, y_train3)\n",
        "y_pred3 = model3.predict(x_test3)\n",
        "print(confusion_matrix(y_test3, y_pred3))\n",
        "print(classification_report(y_test3, y_pred3))\n",
        "accuracy = metrics.accuracy_score(y_test3, y_pred3)\n",
        "print(accuracy)\n",
        "kf = KFold(n_splits=10)\n",
        "scores3 = cross_val_score(model3, x_train3, y_train3, cv=kf)\n",
        "print(pd.DataFrame(scores3), np.mean(scores3), np.std(scores3))"
      ],
      "execution_count": 0,
      "outputs": [
        {
          "output_type": "stream",
          "text": [
            "[[13  1  0  2]\n",
            " [ 2 12  2  0]\n",
            " [ 0  1 15  2]\n",
            " [ 2  2  1 12]]\n",
            "              precision    recall  f1-score   support\n",
            "\n",
            "           0       0.76      0.81      0.79        16\n",
            "           1       0.75      0.75      0.75        16\n",
            "           2       0.83      0.83      0.83        18\n",
            "           3       0.75      0.71      0.73        17\n",
            "\n",
            "    accuracy                           0.78        67\n",
            "   macro avg       0.77      0.78      0.77        67\n",
            "weighted avg       0.78      0.78      0.78        67\n",
            "\n",
            "0.7761194029850746\n",
            "          0\n",
            "0  0.769231\n",
            "1  0.769231\n",
            "2  0.769231\n",
            "3  0.916667\n",
            "4  0.750000\n",
            "5  0.666667\n",
            "6  0.750000\n",
            "7  0.666667\n",
            "8  0.833333\n",
            "9  0.583333 0.7474358974358973 0.08799580110716523\n"
          ],
          "name": "stdout"
        }
      ]
    },
    {
      "cell_type": "markdown",
      "metadata": {
        "id": "Q6Yr8up2gtFa",
        "colab_type": "text"
      },
      "source": [
        "# **Model # 4 : Neural Network**"
      ]
    },
    {
      "cell_type": "code",
      "metadata": {
        "id": "mee9N9Z0g5hW",
        "colab_type": "code",
        "colab": {
          "base_uri": "https://localhost:8080/",
          "height": 53
        },
        "outputId": "7c31be09-20a7-4b94-d588-0dc23ffedbbe"
      },
      "source": [
        "x = np.asarray(df.drop(['hull1'], axis = 1)) \n",
        "y= np.asarray(df['hull1'])\n",
        "pt = PowerTransformer() \n",
        "x = pt.fit_transform(x)\n",
        "x_train, x_test, y_train, y_test = train_test_split(x,y, train_size = 0.7, test_size = 0.3, random_state = 100)\n",
        "# change the labels to one hot vector\n",
        "y_train=np_utils.to_categorical(y_train,num_classes=4)\n",
        "y_test=np_utils.to_categorical(y_test,num_classes=4)\n",
        "print(\"Shape of y_train\",y_train.shape)\n",
        "print(\"Shape of y_test\",y_test.shape)"
      ],
      "execution_count": 11,
      "outputs": [
        {
          "output_type": "stream",
          "text": [
            "Shape of y_train (133, 4)\n",
            "Shape of y_test (57, 4)\n"
          ],
          "name": "stdout"
        }
      ]
    },
    {
      "cell_type": "code",
      "metadata": {
        "id": "GBQOoer1ikaS",
        "colab_type": "code",
        "colab": {
          "base_uri": "https://localhost:8080/",
          "height": 710
        },
        "outputId": "24e335d8-e784-484f-d129-f5c381cd6d5a"
      },
      "source": [
        "model=Sequential()\n",
        "model.add(Dense(200,input_dim=91,activation='relu')) # input dimention\n",
        "model.add(Dropout(0.5))\n",
        "model.add(Dense(100,activation='relu'))\n",
        "model.add(Dropout(0.5))\n",
        "model.add(Dense(30,activation='relu'))\n",
        "model.add(Dropout(0.5))\n",
        "model.add(Dense(4,activation='softmax'))\n",
        "model.compile(loss='categorical_crossentropy',optimizer=Adam(lr=0.001),metrics=['accuracy'])\n",
        "model.summary()"
      ],
      "execution_count": 12,
      "outputs": [
        {
          "output_type": "stream",
          "text": [
            "WARNING:tensorflow:From /usr/local/lib/python3.6/dist-packages/keras/backend/tensorflow_backend.py:66: The name tf.get_default_graph is deprecated. Please use tf.compat.v1.get_default_graph instead.\n",
            "\n",
            "WARNING:tensorflow:From /usr/local/lib/python3.6/dist-packages/keras/backend/tensorflow_backend.py:541: The name tf.placeholder is deprecated. Please use tf.compat.v1.placeholder instead.\n",
            "\n",
            "WARNING:tensorflow:From /usr/local/lib/python3.6/dist-packages/keras/backend/tensorflow_backend.py:4432: The name tf.random_uniform is deprecated. Please use tf.random.uniform instead.\n",
            "\n",
            "WARNING:tensorflow:From /usr/local/lib/python3.6/dist-packages/keras/backend/tensorflow_backend.py:148: The name tf.placeholder_with_default is deprecated. Please use tf.compat.v1.placeholder_with_default instead.\n",
            "\n",
            "WARNING:tensorflow:From /usr/local/lib/python3.6/dist-packages/keras/backend/tensorflow_backend.py:3733: calling dropout (from tensorflow.python.ops.nn_ops) with keep_prob is deprecated and will be removed in a future version.\n",
            "Instructions for updating:\n",
            "Please use `rate` instead of `keep_prob`. Rate should be set to `rate = 1 - keep_prob`.\n",
            "WARNING:tensorflow:From /usr/local/lib/python3.6/dist-packages/keras/optimizers.py:793: The name tf.train.Optimizer is deprecated. Please use tf.compat.v1.train.Optimizer instead.\n",
            "\n",
            "WARNING:tensorflow:From /usr/local/lib/python3.6/dist-packages/keras/backend/tensorflow_backend.py:3576: The name tf.log is deprecated. Please use tf.math.log instead.\n",
            "\n",
            "Model: \"sequential_1\"\n",
            "_________________________________________________________________\n",
            "Layer (type)                 Output Shape              Param #   \n",
            "=================================================================\n",
            "dense_1 (Dense)              (None, 200)               18400     \n",
            "_________________________________________________________________\n",
            "dropout_1 (Dropout)          (None, 200)               0         \n",
            "_________________________________________________________________\n",
            "dense_2 (Dense)              (None, 100)               20100     \n",
            "_________________________________________________________________\n",
            "dropout_2 (Dropout)          (None, 100)               0         \n",
            "_________________________________________________________________\n",
            "dense_3 (Dense)              (None, 30)                3030      \n",
            "_________________________________________________________________\n",
            "dropout_3 (Dropout)          (None, 30)                0         \n",
            "_________________________________________________________________\n",
            "dense_4 (Dense)              (None, 4)                 124       \n",
            "=================================================================\n",
            "Total params: 41,654\n",
            "Trainable params: 41,654\n",
            "Non-trainable params: 0\n",
            "_________________________________________________________________\n"
          ],
          "name": "stdout"
        }
      ]
    },
    {
      "cell_type": "code",
      "metadata": {
        "id": "4n1oifJniqrp",
        "colab_type": "code",
        "colab": {
          "base_uri": "https://localhost:8080/",
          "height": 401
        },
        "outputId": "e78255b2-eec4-44bf-e5ff-e33a29e47d61"
      },
      "source": [
        "model.fit(x_train,y_train,validation_data=(x_test,y_test),batch_size=20,epochs=35,verbose=0)\n",
        "scores = model.evaluate(x_test, y_test, verbose=0)\n",
        "print(scores)"
      ],
      "execution_count": 13,
      "outputs": [
        {
          "output_type": "stream",
          "text": [
            "WARNING:tensorflow:From /tensorflow-1.15.2/python3.6/tensorflow_core/python/ops/math_grad.py:1424: where (from tensorflow.python.ops.array_ops) is deprecated and will be removed in a future version.\n",
            "Instructions for updating:\n",
            "Use tf.where in 2.0, which has the same broadcast rule as np.where\n",
            "WARNING:tensorflow:From /usr/local/lib/python3.6/dist-packages/keras/backend/tensorflow_backend.py:1033: The name tf.assign_add is deprecated. Please use tf.compat.v1.assign_add instead.\n",
            "\n",
            "WARNING:tensorflow:From /usr/local/lib/python3.6/dist-packages/keras/backend/tensorflow_backend.py:1020: The name tf.assign is deprecated. Please use tf.compat.v1.assign instead.\n",
            "\n",
            "WARNING:tensorflow:From /usr/local/lib/python3.6/dist-packages/keras/backend/tensorflow_backend.py:3005: The name tf.Session is deprecated. Please use tf.compat.v1.Session instead.\n",
            "\n",
            "WARNING:tensorflow:From /usr/local/lib/python3.6/dist-packages/keras/backend/tensorflow_backend.py:190: The name tf.get_default_session is deprecated. Please use tf.compat.v1.get_default_session instead.\n",
            "\n",
            "WARNING:tensorflow:From /usr/local/lib/python3.6/dist-packages/keras/backend/tensorflow_backend.py:197: The name tf.ConfigProto is deprecated. Please use tf.compat.v1.ConfigProto instead.\n",
            "\n",
            "WARNING:tensorflow:From /usr/local/lib/python3.6/dist-packages/keras/backend/tensorflow_backend.py:207: The name tf.global_variables is deprecated. Please use tf.compat.v1.global_variables instead.\n",
            "\n",
            "WARNING:tensorflow:From /usr/local/lib/python3.6/dist-packages/keras/backend/tensorflow_backend.py:216: The name tf.is_variable_initialized is deprecated. Please use tf.compat.v1.is_variable_initialized instead.\n",
            "\n",
            "WARNING:tensorflow:From /usr/local/lib/python3.6/dist-packages/keras/backend/tensorflow_backend.py:223: The name tf.variables_initializer is deprecated. Please use tf.compat.v1.variables_initializer instead.\n",
            "\n",
            "[1.0118698132665533, 0.7017543964218675]\n"
          ],
          "name": "stdout"
        }
      ]
    },
    {
      "cell_type": "markdown",
      "metadata": {
        "id": "J-H_u9fOi348",
        "colab_type": "text"
      },
      "source": [
        "**Hyperparameters tuning**"
      ]
    },
    {
      "cell_type": "code",
      "metadata": {
        "id": "MhFkEmX4i6Eu",
        "colab_type": "code",
        "colab": {
          "base_uri": "https://localhost:8080/",
          "height": 72
        },
        "outputId": "d8b79ed3-3584-4efe-a286-afe8f78196cb"
      },
      "source": [
        "lrs=[0.005,0.007,0.009]\n",
        "units=[50]\n",
        "epochs=[25]\n",
        "batch_sizes=[10]\n",
        "\n",
        "for lr in lrs:\n",
        "  for unit in units:\n",
        "    for epoch in epochs:\n",
        "      for batch_size in batch_sizes:\n",
        "        model=Sequential()\n",
        "        model.add(Dense(units=unit,input_dim=91,activation='relu')) # input dimention\n",
        "        model.add(Dropout(0.5))\n",
        "        model.add(Dense(units=unit,activation='relu'))\n",
        "        model.add(Dropout(0.5))\n",
        "        model.add(Dense(units=unit,activation='relu'))\n",
        "        model.add(Dropout(0.5))\n",
        "        model.add(Dense(4,activation='softmax'))\n",
        "        model.compile(loss='categorical_crossentropy',optimizer=Adam(lr=lr),metrics=['accuracy'])\n",
        "        model.fit(x_train,y_train,validation_data=(x_test,y_test),verbose=0,batch_size=batch_size,epochs=epoch)\n",
        "        scores = model.evaluate(x_test, y_test, verbose=0)\n",
        "        print(lr,unit,epoch,batch_size, scores)"
      ],
      "execution_count": 15,
      "outputs": [
        {
          "output_type": "stream",
          "text": [
            "0.005 50 25 10 [1.3189478276068705, 0.7017543964218675]\n",
            "0.007 50 25 10 [1.1266286791416638, 0.7368420989889848]\n",
            "0.009 50 25 10 [1.3012996493724354, 0.7368421084002444]\n"
          ],
          "name": "stdout"
        }
      ]
    },
    {
      "cell_type": "markdown",
      "metadata": {
        "id": "9nHSElkHjmfd",
        "colab_type": "text"
      },
      "source": [
        "**Tuned model**"
      ]
    },
    {
      "cell_type": "code",
      "metadata": {
        "id": "aqjQ8KF8jnz3",
        "colab_type": "code",
        "colab": {
          "base_uri": "https://localhost:8080/",
          "height": 35
        },
        "outputId": "a28f388e-59f2-48f8-cd52-15e156c63810"
      },
      "source": [
        "model=Sequential()\n",
        "model.add(Dense(50,input_dim=91,activation='relu')) \n",
        "model.add(Dropout(0.5))\n",
        "model.add(Dense(50,activation='relu'))\n",
        "model.add(Dropout(0.5))\n",
        "model.add(Dense(50,activation='relu'))\n",
        "model.add(Dropout(0.5))\n",
        "model.add(Dense(4,activation='softmax'))\n",
        "model.compile(loss='categorical_crossentropy',optimizer=Adam(lr=0.009),metrics=['accuracy'])\n",
        "model.fit(x_train,y_train,validation_data=(x_test,y_test),verbose=0,batch_size=10,epochs=25)\n",
        "scores = model.evaluate(x_test, y_test, verbose=2)\n",
        "print(scores)"
      ],
      "execution_count": 16,
      "outputs": [
        {
          "output_type": "stream",
          "text": [
            "[1.4325025248945804, 0.7192982581623814]\n"
          ],
          "name": "stdout"
        }
      ]
    },
    {
      "cell_type": "markdown",
      "metadata": {
        "id": "kms-OPmVj2VQ",
        "colab_type": "text"
      },
      "source": [
        "# Visualization"
      ]
    },
    {
      "cell_type": "markdown",
      "metadata": {
        "colab_type": "text",
        "id": "AEUIepI16-3F"
      },
      "source": [
        " **Plot the models**\n"
      ]
    },
    {
      "cell_type": "code",
      "metadata": {
        "colab_type": "code",
        "outputId": "aa144a36-a2d5-422f-f13f-ce4ce2707d61",
        "id": "dMyzolU_3z2d",
        "colab": {
          "base_uri": "https://localhost:8080/",
          "height": 370
        }
      },
      "source": [
        "plt.figure(figsize=(15,15))\n",
        "labels = ['Brown', 'Green', 'Grey', 'Tan']\n",
        "sns.set_context('talk')\n",
        "\n",
        "plt.subplot(1,3,1) # first heatmap\n",
        "\n",
        "mat1 = confusion_matrix(y_test3, y_pred3)\n",
        "ax1=sns.heatmap(mat1.T, square=True, annot=True, xticklabels = labels, yticklabels = labels, cbar=False, cmap ='Blues')\n",
        "ax1.set(title='SVM Classifier\\n  Accuracy = 0.78',\n",
        "      xlabel='True',\n",
        "      ylabel='Predicted')\n",
        "\n",
        "plt.subplot(1,3,2) # second heatmap\n",
        "mat2 = confusion_matrix(y_test1, y_pred1)\n",
        "ax2=sns.heatmap(mat2.T, square=True, annot=True, xticklabels = labels, yticklabels = labels, cbar=False, cmap ='Blues')\n",
        "ax2.set(title='RF Classifier\\n  Accuracy = 0.74',\n",
        "      xlabel='True',\n",
        "      ylabel='Predicted')\n",
        " \n",
        "plt.subplot(1,3,3) # third heatmap\n",
        "mat3 = confusion_matrix(y_test2, y_pred2)\n",
        "ax3=sns.heatmap(mat3.T, square=True, annot=True, xticklabels = labels, yticklabels = labels, cbar = False,  cmap ='Blues',\n",
        "                cbar_kws={'shrink':0.3})\n",
        "\n",
        "          \n",
        "ax3.set(title='KNN Classifier\\n  Accuracy = 0.63',\n",
        "      xlabel='True',\n",
        "      ylabel='Predicted')\n",
        "\n",
        "\n",
        "plt.savefig('heatmap.png',  dpi=400)\n",
        "plt.show()\n",
        "#download the figure\n",
        "files.download('heatmap.png')\n"
      ],
      "execution_count": 0,
      "outputs": [
        {
          "output_type": "display_data",
          "data": {
            "image/png": "[encoded data removed]",
            "text/plain": [
              "<Figure size 1080x1080 with 3 Axes>"
            ]
          },
          "metadata": {
            "tags": []
          }
        }
      ]
    },
    {
      "cell_type": "markdown",
      "metadata": {
        "id": "aDa3SJmNcwSt",
        "colab_type": "text"
      },
      "source": [
        "**Plot important features**"
      ]
    },
    {
      "cell_type": "code",
      "metadata": {
        "id": "9aBiXfgkPbIp",
        "colab_type": "code",
        "outputId": "58289432-52a1-49d8-b996-e2092f2d5095",
        "colab": {
          "base_uri": "https://localhost:8080/",
          "height": 220
        }
      },
      "source": [
        "# Finding important features\n",
        "df1=df.drop('hull1', axis = 1)\n",
        "x_train1_1 = pd.DataFrame(x_train1, columns = df1.columns)\n",
        "feature_importances = pd.DataFrame(model1.feature_importances_,\n",
        "                                   index = x_train1_1.columns,\n",
        "                                    columns=['importance']).sort_values('importance',\n",
        "                                                                        ascending=False)\n",
        "feature_importances = feature_importances.round(2)\n",
        "print(feature_importances.head(10))"
      ],
      "execution_count": 0,
      "outputs": [
        {
          "output_type": "stream",
          "text": [
            "              importance\n",
            "cat_gluc            0.32\n",
            "cat                 0.11\n",
            "595.6I              0.06\n",
            "B2                  0.04\n",
            "lut_4gluc           0.03\n",
            "1187.8I             0.03\n",
            "gallo               0.02\n",
            "915.6II             0.02\n",
            "595.6IV             0.02\n",
            "querc_glucII        0.02\n"
          ],
          "name": "stdout"
        }
      ]
    },
    {
      "cell_type": "code",
      "metadata": {
        "id": "bXYeLyW4R9N3",
        "colab_type": "code",
        "outputId": "12e57c8c-8215-44e6-e946-22ad0d82db54",
        "colab": {
          "base_uri": "https://localhost:8080/",
          "height": 640
        }
      },
      "source": [
        "# Plot important features\n",
        "df_new = df.rename(columns={'cat':'Catechin', 'cat_gluc': 'Catechin gluc','lut_4gluc':'Luteolin gluc',\n",
        "                            '595.6I' : 'GC dimer'})\n",
        "x = df_new.drop(['hull1'], axis = 1) \n",
        "y= df_new['hull1']\n",
        "sns.set_context('talk')\n",
        "grid = sns.PairGrid(data=df_new,hue = 'hull1', \n",
        "                  vars = ['Catechin gluc','Catechin','Luteolin gluc','GC dimer','B2'],\n",
        "                  palette={ 0: 'brown',1: 'green', 2 : 'grey', 3: 'tan' },height =1.7)\n",
        "grid = grid.map_upper(plt.scatter, edgecolor = 'k')\n",
        "grid = grid.map_diag(plt.hist, bins = 10, edgecolor = 'k')\n",
        "grid = grid.map_lower(sns.kdeplot)\n",
        "grid.savefig('pairgrid.png',  dpi=400)\n",
        "fig.show()\n",
        "files.download('pairgrid.png')"
      ],
      "execution_count": 0,
      "outputs": [
        {
          "output_type": "display_data",
          "data": {
            "image/png": "[encoded data removed]",
            "text/plain": [
              "<Figure size 612x612 with 30 Axes>"
            ]
          },
          "metadata": {
            "tags": []
          }
        }
      ]
    },
    {
      "cell_type": "code",
      "metadata": {
        "id": "WGl9Bbe5xA7r",
        "colab_type": "code",
        "outputId": "e20564e3-18c9-4784-f36b-894f3381d30a",
        "colab": {
          "base_uri": "https://localhost:8080/",
          "height": 357
        }
      },
      "source": [
        "x = df.drop(['hull1'], axis = 1) \n",
        "y= df['hull1']\n",
        "x_train1, x_test1, y_train1, y_test1 = train_test_split(x,y, train_size = 0.7, test_size = 0.3, random_state = 100)\n",
        "model1 = RandomForestClassifier(n_estimators = 200,min_samples_split = 12\n",
        ",min_samples_leaf = 4, max_features = 40, max_depth=20, bootstrap= True)\n",
        "model1.fit(x_train1, y_train1)\n",
        "y_pred1 = model1.predict(x_test1)\n",
        "\n",
        "fig = plt.figure(figsize=(8, 6))\n",
        "ax = fig.add_subplot(111, projection='3d')\n",
        "xs = x_train1['cat_gluc']\n",
        "ys = x_train1['lut_4gluc']\n",
        "zs = x_train1['gallo']\n",
        "cs = y_train1\n",
        "colors = {0: 'brown', 1: 'green', 2: 'grey', 3: 'tan'}\n",
        "ax.scatter(xs, ys, zs, c = cs.apply(lambda x: colors[x]),\n",
        "           s=50, alpha=0.8, edgecolors='w', marker = 'o')\n",
        "ax.set_xlabel('Catechin glucoside', fontdict ={'fontsize' :13})\n",
        "ax.set_ylabel('Luteolin glucoside', fontdict ={'fontsize' :13})\n",
        "ax.set_zlabel('Gallocatechin', fontdict ={'fontsize' :13})\n",
        "ax.set_title('Train', fontdict ={'fontsize' :20})\n",
        "fig.savefig('train.png',  dpi=400)\n",
        "fig.show()\n",
        "files.download('train.png')"
      ],
      "execution_count": 0,
      "outputs": [
        {
          "output_type": "display_data",
          "data": {
            "image/png": "[encoded data removed]",
            "text/plain": [
              "<Figure size 576x432 with 1 Axes>"
            ]
          },
          "metadata": {
            "tags": []
          }
        }
      ]
    },
    {
      "cell_type": "code",
      "metadata": {
        "id": "WK7Xg32sY52K",
        "colab_type": "code",
        "outputId": "f4b19280-a9fb-4490-98c5-e5ab850709c3",
        "colab": {
          "base_uri": "https://localhost:8080/",
          "height": 357
        }
      },
      "source": [
        "x = df.drop(['hull1'], axis = 1) \n",
        "y= df['hull1']\n",
        "x_train1, x_test1, y_train1, y_test1 = train_test_split(x,y, train_size = 0.7, test_size = 0.3, random_state = 100)\n",
        "model1 = RandomForestClassifier(n_estimators = 200,min_samples_split = 12\n",
        ",min_samples_leaf = 4, max_features = 40, max_depth=20, bootstrap= True)\n",
        "model1.fit(x_train1, y_train1)\n",
        "y_pred1 = model1.predict(x_test1)\n",
        "\n",
        "fig = plt.figure(figsize=(8, 6))\n",
        "ax = fig.add_subplot(111, projection='3d')\n",
        "xs = x_test1['cat_gluc']\n",
        "ys = x_test1['lut_4gluc']\n",
        "zs = x_test1['gallo']\n",
        "\n",
        "colors = {0: 'brown', 1: 'green', 2: 'grey', 3: 'tan'}\n",
        "ax.scatter(xs, ys, zs, c = pd.DataFrame(y_pred1, columns = ['s'])['s'].apply(lambda x: colors[x]),\n",
        "           s=50, alpha=0.8, edgecolors='w', marker = 'o')\n",
        "ax.set_xlabel('Catechin glucoside', fontdict ={'fontsize' :13})\n",
        "ax.set_ylabel('Luteolin glucoside', fontdict ={'fontsize' :13})\n",
        "ax.set_zlabel('Gallocatechin', fontdict ={'fontsize' :13})\n",
        "ax.set_title('Test', fontdict ={'fontsize' :20})\n",
        "fig.savefig('test.png',  dpi=400)\n",
        "fig.show()\n",
        "files.download('test.png')"
      ],
      "execution_count": 0,
      "outputs": [
        {
          "output_type": "display_data",
          "data": {
            "image/png": "[encoded data removed]",
            "text/plain": [
              "<Figure size 576x432 with 1 Axes>"
            ]
          },
          "metadata": {
            "tags": []
          }
        }
      ]
    }
  ]
}